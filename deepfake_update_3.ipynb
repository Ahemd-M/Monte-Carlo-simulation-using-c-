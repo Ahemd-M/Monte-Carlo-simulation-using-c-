{
  "nbformat": 4,
  "nbformat_minor": 0,
  "metadata": {
    "colab": {
      "name": "deepfake_update_3.ipynb",
      "provenance": [],
      "collapsed_sections": [
        "yWvjVOoMN9k1",
        "adSYmZWqnzpm",
        "dlrzt3BtoPb7",
        "kgK8xcx0CKP_",
        "NsykEfkdtQw7",
        "_jDBtI1b3iUh",
        "1lH2cDp2-Zcp",
        "vlA0uqRPl_Ol",
        "njmUNxVN91gR",
        "JxMVfQlR96Nh",
        "DzlPtCFk-BRw",
        "14Yzmi5pzpeU",
        "_6ZcC1AyzlSR"
      ],
      "toc_visible": true,
      "include_colab_link": true
    },
    "kernelspec": {
      "name": "python3",
      "display_name": "Python 3"
    },
    "language_info": {
      "name": "python"
    },
    "accelerator": "GPU"
  },
  "cells": [
    {
      "cell_type": "markdown",
      "metadata": {
        "id": "view-in-github",
        "colab_type": "text"
      },
      "source": [
        "<a href=\"https://colab.research.google.com/github/Ahemd-M/Monte-Carlo-simulation-using-c-/blob/master/deepfake_update_3.ipynb\" target=\"_parent\"><img src=\"https://colab.research.google.com/assets/colab-badge.svg\" alt=\"Open In Colab\"/></a>"
      ]
    },
    {
      "cell_type": "markdown",
      "metadata": {
        "id": "gsLnFyoZBKs2"
      },
      "source": [
        "#important links\n",
        "\n",
        "\n",
        "1.   all 10GB face data https://drive.google.com/drive/folders/197Ia2ZG1-fBwZRjEUhEpA-hN2yDR9ZN-?usp=sharing\n",
        "2.   weights folder https://drive.google.com/drive/folders/1xbJtRZhRvfzNItLAcVBeWNi6DLPhi8Xr?usp=sharing\n",
        "3.   real videos folder https://drive.google.com/drive/folders/1L5ufMnf3KmotOHXsgVHu61g_XORkUzzO?usp=sharing\n",
        "4.   fake videos folder https://drive.google.com/drive/folders/1y_LKEVeXzrRxdTT_DEhkkh6RQ4JncxN3?usp=sharing\n",
        "\n"
      ]
    },
    {
      "cell_type": "markdown",
      "metadata": {
        "id": "yWvjVOoMN9k1"
      },
      "source": [
        "#import package"
      ]
    },
    {
      "cell_type": "code",
      "metadata": {
        "colab": {
          "base_uri": "https://localhost:8080/"
        },
        "id": "AR3bPQHNn4OW",
        "outputId": "f9e4211d-5905-466a-fcdc-37d0f5dd8877"
      },
      "source": [
        "!pip install face_recognition"
      ],
      "execution_count": null,
      "outputs": [
        {
          "output_type": "stream",
          "text": [
            "Collecting face_recognition\n",
            "  Downloading https://files.pythonhosted.org/packages/1e/95/f6c9330f54ab07bfa032bf3715c12455a381083125d8880c43cbe76bb3d0/face_recognition-1.3.0-py2.py3-none-any.whl\n",
            "Requirement already satisfied: dlib>=19.7 in /usr/local/lib/python3.7/dist-packages (from face_recognition) (19.18.0)\n",
            "Requirement already satisfied: Click>=6.0 in /usr/local/lib/python3.7/dist-packages (from face_recognition) (7.1.2)\n",
            "Requirement already satisfied: numpy in /usr/local/lib/python3.7/dist-packages (from face_recognition) (1.19.5)\n",
            "Collecting face-recognition-models>=0.3.0\n",
            "\u001b[?25l  Downloading https://files.pythonhosted.org/packages/cf/3b/4fd8c534f6c0d1b80ce0973d01331525538045084c73c153ee6df20224cf/face_recognition_models-0.3.0.tar.gz (100.1MB)\n",
            "\u001b[K     |████████████████████████████████| 100.2MB 31kB/s \n",
            "\u001b[?25hRequirement already satisfied: Pillow in /usr/local/lib/python3.7/dist-packages (from face_recognition) (7.1.2)\n",
            "Building wheels for collected packages: face-recognition-models\n",
            "  Building wheel for face-recognition-models (setup.py) ... \u001b[?25l\u001b[?25hdone\n",
            "  Created wheel for face-recognition-models: filename=face_recognition_models-0.3.0-py2.py3-none-any.whl size=100566173 sha256=06e24efe3e2c8dba751348cca6b2a940b1b5408f723eed1275c9a7631ac62831\n",
            "  Stored in directory: /root/.cache/pip/wheels/d2/99/18/59c6c8f01e39810415c0e63f5bede7d83dfb0ffc039865465f\n",
            "Successfully built face-recognition-models\n",
            "Installing collected packages: face-recognition-models, face-recognition\n",
            "Successfully installed face-recognition-1.3.0 face-recognition-models-0.3.0\n"
          ],
          "name": "stdout"
        }
      ]
    },
    {
      "cell_type": "code",
      "metadata": {
        "id": "lSMs-zKPn4cB"
      },
      "source": [
        "import numpy as np\n",
        "import pandas as pd\n",
        "import os\n",
        "import matplotlib\n",
        "import seaborn as sns\n",
        "import matplotlib.pyplot as plt\n",
        "from tqdm import tqdm_notebook\n",
        "%matplotlib inline \n",
        "import cv2 \n",
        "import shutil\n",
        "import random"
      ],
      "execution_count": null,
      "outputs": []
    },
    {
      "cell_type": "code",
      "metadata": {
        "id": "UDDj2Hk8n4er"
      },
      "source": [
        "import dlib\n",
        "import face_recognition\n",
        "import math\n",
        "import sys\n",
        "from os.path import basename"
      ],
      "execution_count": null,
      "outputs": []
    },
    {
      "cell_type": "code",
      "metadata": {
        "id": "Ob7ukBn9N7EO"
      },
      "source": [
        "from google.colab import drive\n",
        "from keras.models import load_model"
      ],
      "execution_count": null,
      "outputs": []
    },
    {
      "cell_type": "code",
      "metadata": {
        "id": "QbUvaeL3N8en"
      },
      "source": [
        "drive.mount('/content/drive')"
      ],
      "execution_count": null,
      "outputs": []
    },
    {
      "cell_type": "markdown",
      "metadata": {
        "id": "adSYmZWqnzpm"
      },
      "source": [
        "#video preprocessing (face detector)"
      ]
    },
    {
      "cell_type": "code",
      "metadata": {
        "id": "nIoxzwnVn4hj"
      },
      "source": [
        "def rect_to_bbox(rect):\n",
        "    \"\"\"Get the coordinate information of the face rectangle\"\"\"\n",
        "    \n",
        "    x = rect[3]\n",
        "    y = rect[0]\n",
        "    w = rect[1] - x\n",
        "    h = rect[2] - y\n",
        "    return (x, y, w, h)\n",
        "\n",
        "def face_detection(img):\n",
        "    detect_face = 0\n",
        "    face_locations = face_recognition.face_locations(img)\n",
        "         # Extract the picture of the face area and save it\n",
        "    src_faces = []\n",
        "    src_face_num = 0\n",
        "    for (i, rect) in enumerate(face_locations):\n",
        "        src_face_num = src_face_num + 1\n",
        "        (x, y, w, h) = rect_to_bbox(rect)\n",
        "        detect_face = img[y:y+h, x:x+w]\n",
        "        src_faces.append(detect_face)\n",
        "    #if len(src_faces) == 0 :\n",
        "    #  return np.zeros((256,256))\n",
        "    resize_image = cv2.resize(detect_face,(256,256))\n",
        "    return resize_image, len(src_faces) "
      ],
      "execution_count": null,
      "outputs": []
    },
    {
      "cell_type": "markdown",
      "metadata": {
        "id": "dlrzt3BtoPb7"
      },
      "source": [
        "#prepare data to train and test the model"
      ]
    },
    {
      "cell_type": "code",
      "metadata": {
        "id": "sp_sXdh_n4p4"
      },
      "source": [
        "#CLASSES = [\"FAKE\", \"REAL\"]\n",
        "img_shape = 256"
      ],
      "execution_count": null,
      "outputs": []
    },
    {
      "cell_type": "code",
      "metadata": {
        "id": "wXm8LpGs2NgL"
      },
      "source": [
        "print (len(os.listdir(os.path.join('/content/drive/MyDrive/all_data_folder_46/','FAKE'))))"
      ],
      "execution_count": null,
      "outputs": []
    },
    {
      "cell_type": "code",
      "metadata": {
        "id": "7WT5murO5tjJ"
      },
      "source": [
        "def split_img_and_lable (train_data):\n",
        "  test_img = []\n",
        "  test_img_lable = []\n",
        "  for image in train_data:\n",
        "    test_img.append(image[0])\n",
        "    test_img_lable.append(image[1])\n",
        "  \n",
        "  return test_img, test_img_lable"
      ],
      "execution_count": null,
      "outputs": []
    },
    {
      "cell_type": "code",
      "metadata": {
        "id": "CU9oPv-99WB1"
      },
      "source": [
        "len( os.listdir(os.path.join(root_dir,'FAKE')))\n"
      ],
      "execution_count": null,
      "outputs": []
    },
    {
      "cell_type": "code",
      "metadata": {
        "id": "OmwWUm9NW9aT"
      },
      "source": [
        "def split_data_train_and_test (root_dir, train_ratio, count):\n",
        "  fake_trainsize = count *train_ratio\n",
        "  real_trainsize = count *train_ratio\n",
        "  train_data = []\n",
        "  test_data = []\n",
        "  i = 0 \n",
        "  for image in os.listdir(os.path.join(root_dir,'FAKE')) :\n",
        "      img = cv2.imread(os.path.join(root_dir,'FAKE',image))     \n",
        "      img = cv2.cvtColor(img, cv2.COLOR_BGR2RGB)\n",
        "      img = img/255.0\n",
        "      if i <= fake_trainsize :\n",
        "          train_data.append([img,0])\n",
        "      else :\n",
        "        test_data.append([img,0])\n",
        "      if i == count :\n",
        "        break\n",
        "      \n",
        "      i += 1 \n",
        "  i= 0\n",
        " \n",
        "  for image in os.listdir(os.path.join(root_dir,'REAL')) :\n",
        "      img = cv2.imread(os.path.join(root_dir,'REAL',image)) \n",
        "      img = cv2.cvtColor(img, cv2.COLOR_BGR2RGB)\n",
        "      img = img/255.0\n",
        "      if i <= real_trainsize :\n",
        "          train_data.append([img,1])\n",
        "      else :\n",
        "        test_data.append([img,1])\n",
        "      i += 1\n",
        "      if i == count :\n",
        "        break\n",
        "\n",
        "  return train_data,test_data"
      ],
      "execution_count": null,
      "outputs": []
    },
    {
      "cell_type": "markdown",
      "metadata": {
        "id": "kgK8xcx0CKP_"
      },
      "source": [
        "#test the model (prediction phase)"
      ]
    },
    {
      "cell_type": "code",
      "metadata": {
        "id": "EgWj9se5UCQV"
      },
      "source": [
        "def predict_image(image,model) : \n",
        "  image = image.reshape((-1,256,256,3))\n",
        "  \n",
        "  predict = model.predict(image)\n",
        "  \n",
        "  #print(predict)\n",
        "  if predict <= 0.5 :\n",
        "    return(0)\n",
        "  else :\n",
        "    return(1)\n",
        "\n",
        "def predict_list(image_list,model) :\n",
        "  pred_list = []\n",
        "  for img in image_list :\n",
        "    pred_list.append(predict_image(img,model))\n",
        "  return pred_list\n",
        "\n",
        "def get_accuracy_pred(predict_list , label_list ) :\n",
        "  acc_sum  =0 \n",
        "  for i in range(0,len(label_list)):\n",
        "    if predict_list[i] == label_list[i] :\n",
        "      acc_sum += 1 \n",
        "\n",
        "  return acc_sum/len(label_list)\n",
        "\n",
        "def predict_full_video(video_path,model):\n",
        "    capture_image = cv2.VideoCapture(video_path)\n",
        "    num_frames =int(capture_image.get(cv2.CAP_PROP_FRAME_COUNT)) \n",
        "    frame_each_time=1*math.ceil(capture_image.get(cv2.CAP_PROP_FPS))\n",
        "    pred_list = []\n",
        "    for i in range(0, num_frames):\n",
        "      \n",
        "      ret = capture_image.grab()\n",
        "      if i % frame_each_time == 0:   #frame each second\n",
        "        ret, frame = capture_image.retrieve()\n",
        "        crop_img , length = face_detection(frame) \n",
        "        \n",
        "        \n",
        "        if length == 0 :\n",
        "          continue\n",
        "          \n",
        "        else :\n",
        "         crop_img = crop_img/255.0\n",
        "         pred_list.append(predict_image(crop_img,model))\n",
        "\n",
        "    capture_image.release()\n",
        "    return pred_list\n",
        "    \n",
        "def final_video_predict(video_path,model):#<<<<<<<<<<<<<<<<<<<<we will change this method\n",
        "  pred_list = predict_full_video(video_path,model)\n",
        "  fake_count = 0\n",
        "  real_count = 0\n",
        "  for p in pred_list :\n",
        "    if p == 0 :\n",
        "      fake_count += 1\n",
        "    else :\n",
        "      real_count += 1\n",
        "  if fake_count >= real_count :\n",
        "    return 0 \n",
        "  else :\n",
        "    return 1"
      ],
      "execution_count": null,
      "outputs": []
    },
    {
      "cell_type": "markdown",
      "metadata": {
        "id": "NsykEfkdtQw7"
      },
      "source": [
        "#save and load model"
      ]
    },
    {
      "cell_type": "code",
      "metadata": {
        "id": "hLCyVibvuOik"
      },
      "source": [
        "def save_model_and_weights(model_name , target_file_name ,path):\n",
        "  model_name.save(os.path.join(path,target_file_name))"
      ],
      "execution_count": null,
      "outputs": []
    },
    {
      "cell_type": "code",
      "metadata": {
        "id": "c-pCTXWHuPDS"
      },
      "source": [
        "\n",
        "def load_model_and_weights(full_path):\n",
        "  return load_model(full_path)"
      ],
      "execution_count": null,
      "outputs": []
    },
    {
      "cell_type": "markdown",
      "metadata": {
        "id": "JYdmDwLk0EYC"
      },
      "source": [
        "\n",
        "\n",
        "---\n",
        "\n",
        "\n",
        "\n",
        "---\n",
        "\n"
      ]
    },
    {
      "cell_type": "markdown",
      "metadata": {
        "id": "22oTn6bAxS0L"
      },
      "source": [
        "#**start experment here![FB_IMG_1514133367894.jpg](data:image/jpeg;base64,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)**\n",
        "\n"
      ]
    },
    {
      "cell_type": "markdown",
      "metadata": {
        "id": "_jDBtI1b3iUh"
      },
      "source": [
        "## 1. get data train and test"
      ]
    },
    {
      "cell_type": "code",
      "metadata": {
        "id": "97heFgqnW9QN"
      },
      "source": [
        "train_data,test_data = split_data_train_and_test('/content/drive/MyDrive/all_data_folder_46/',0.8,2000)#4000 real fake\n",
        "random.shuffle(train_data)                    \n",
        "random.shuffle(test_data)                     "
      ],
      "execution_count": null,
      "outputs": []
    },
    {
      "cell_type": "code",
      "metadata": {
        "colab": {
          "base_uri": "https://localhost:8080/"
        },
        "id": "r2KVEk7jdlPS",
        "outputId": "0e9cf861-7135-4bbb-b794-55329a32328e"
      },
      "source": [
        "train_img , train_img_lable = split_img_and_lable(train_data)\n",
        "\n",
        "test_img , test_img_lable = split_img_and_lable(test_data)\n",
        "\n",
        "print(\"train_img:\",len(train_img))\n",
        "print(\"train_img_lable:\",len(train_img_lable))\n",
        "print(\"test_img:\",len(test_img))\n",
        "print(\"test_img_lable:\",len(test_img_lable))\n",
        "train_data=[]\n",
        "test_data = []"
      ],
      "execution_count": null,
      "outputs": [
        {
          "output_type": "stream",
          "text": [
            "train_img: 3202\n",
            "train_img_lable: 3202\n",
            "test_img: 799\n",
            "test_img_lable: 799\n"
          ],
          "name": "stdout"
        }
      ]
    },
    {
      "cell_type": "code",
      "metadata": {
        "id": "W1GVOIQY8W4N"
      },
      "source": [
        "train_img = np.asarray(train_img)\n",
        "train_img_lable = np.asarray(train_img_lable)"
      ],
      "execution_count": null,
      "outputs": []
    },
    {
      "cell_type": "code",
      "metadata": {
        "colab": {
          "base_uri": "https://localhost:8080/"
        },
        "id": "9U6ttnQs8W7N",
        "outputId": "68012dc7-66f7-4354-c1f8-0b17d5874e77"
      },
      "source": [
        "print(train_img_lable.shape)"
      ],
      "execution_count": null,
      "outputs": [
        {
          "output_type": "stream",
          "text": [
            "(3202,)\n"
          ],
          "name": "stdout"
        }
      ]
    },
    {
      "cell_type": "code",
      "metadata": {
        "colab": {
          "base_uri": "https://localhost:8080/"
        },
        "id": "eyNVQqK18W-G",
        "outputId": "fec09b3d-e4f2-47bb-8272-64d9b10ef5d5"
      },
      "source": [
        "print(train_img.shape)"
      ],
      "execution_count": null,
      "outputs": [
        {
          "output_type": "stream",
          "text": [
            "(3202, 256, 256, 3)\n"
          ],
          "name": "stdout"
        }
      ]
    },
    {
      "cell_type": "code",
      "metadata": {
        "id": "Awtq1cM98XA6"
      },
      "source": [
        "train_img = np.reshape(train_img, (-1,img_shape, img_shape, 3))"
      ],
      "execution_count": null,
      "outputs": []
    },
    {
      "cell_type": "code",
      "metadata": {
        "colab": {
          "base_uri": "https://localhost:8080/"
        },
        "id": "Axts6EOltlYw",
        "outputId": "4a6feb8e-e461-4324-d32f-479a09efce91"
      },
      "source": [
        "print(train_img.shape)"
      ],
      "execution_count": null,
      "outputs": [
        {
          "output_type": "stream",
          "text": [
            "(3202, 256, 256, 3)\n"
          ],
          "name": "stdout"
        }
      ]
    },
    {
      "cell_type": "code",
      "metadata": {
        "id": "DzFNvfl4hhow"
      },
      "source": [
        "test_img = np.asarray(test_img)\n",
        "test_img_lable = np.asarray(test_img_lable)"
      ],
      "execution_count": null,
      "outputs": []
    },
    {
      "cell_type": "code",
      "metadata": {
        "colab": {
          "base_uri": "https://localhost:8080/"
        },
        "id": "DY-7KHV1hhoy",
        "outputId": "8b45193f-75b6-47fe-a91d-0f051056b79f"
      },
      "source": [
        "print(test_img_lable.shape)"
      ],
      "execution_count": null,
      "outputs": [
        {
          "output_type": "stream",
          "text": [
            "(799,)\n"
          ],
          "name": "stdout"
        }
      ]
    },
    {
      "cell_type": "code",
      "metadata": {
        "colab": {
          "base_uri": "https://localhost:8080/"
        },
        "id": "OSdUo_TShhoz",
        "outputId": "22715ab2-fd57-4d58-e8f5-29a967e7fb14"
      },
      "source": [
        "print(test_img.shape)"
      ],
      "execution_count": null,
      "outputs": [
        {
          "output_type": "stream",
          "text": [
            "(799, 256, 256, 3)\n"
          ],
          "name": "stdout"
        }
      ]
    },
    {
      "cell_type": "code",
      "metadata": {
        "id": "tvd0MYeRhho0"
      },
      "source": [
        "test_img = np.reshape(test_img, (-1,img_shape, img_shape, 3))"
      ],
      "execution_count": null,
      "outputs": []
    },
    {
      "cell_type": "code",
      "metadata": {
        "colab": {
          "base_uri": "https://localhost:8080/"
        },
        "id": "VJqy2h4Ihho1",
        "outputId": "b703ee69-43a0-4c33-9186-66563d53d9b3"
      },
      "source": [
        "print(test_img.shape)"
      ],
      "execution_count": null,
      "outputs": [
        {
          "output_type": "stream",
          "text": [
            "(799, 256, 256, 3)\n"
          ],
          "name": "stdout"
        }
      ]
    },
    {
      "cell_type": "markdown",
      "metadata": {
        "id": "1ak6ohKH3xl_"
      },
      "source": [
        "##2. train the model"
      ]
    },
    {
      "cell_type": "markdown",
      "metadata": {
        "id": "1lH2cDp2-Zcp"
      },
      "source": [
        "###2.1 all models here"
      ]
    },
    {
      "cell_type": "markdown",
      "metadata": {
        "id": "KDoyojN7z1WE"
      },
      "source": [
        "####2.1.1 meso model"
      ]
    },
    {
      "cell_type": "code",
      "metadata": {
        "id": "GWjC3UGy9OwY"
      },
      "source": [
        "import tensorflow as tf\n",
        "from tensorflow.keras.preprocessing.image import ImageDataGenerator\n",
        "from tensorflow.keras.models import Sequential\n",
        "from tensorflow.keras.layers import Input, Dense, Flatten, Conv2D, MaxPooling2D, BatchNormalization, Dropout, Reshape, Concatenate, LeakyReLU\n",
        "from tensorflow.keras.optimizers import Adam\n",
        "from tensorflow.keras.models import Model"
      ],
      "execution_count": null,
      "outputs": []
    },
    {
      "cell_type": "code",
      "metadata": {
        "id": "oI2P8w-49Oy6"
      },
      "source": [
        "image_dimensions = {'height':256, 'width':256, 'channels':3}"
      ],
      "execution_count": null,
      "outputs": []
    },
    {
      "cell_type": "code",
      "metadata": {
        "id": "7atCcpRn-1_Q"
      },
      "source": [
        "meso_model = Sequential()\n",
        "\n",
        "meso_model.add(Input(shape = (image_dimensions['height'],image_dimensions['width'],image_dimensions['channels'])))\n",
        "\n",
        "meso_model.add(Conv2D(8, (3, 3), padding='same', activation = 'relu'))\n",
        "meso_model.add(BatchNormalization())\n",
        "meso_model.add(MaxPooling2D(pool_size=(2, 2), padding='same'))\n",
        "\n",
        "meso_model.add(Conv2D(8, (5, 5), padding='same', activation = 'relu'))\n",
        "meso_model.add(BatchNormalization())\n",
        "meso_model.add(MaxPooling2D(pool_size=(2, 2), padding='same'))\n",
        "\n",
        "meso_model.add(Conv2D(16, (5, 5), padding='same', activation = 'relu'))\n",
        "meso_model.add(BatchNormalization())\n",
        "meso_model.add(MaxPooling2D(pool_size=(2, 2), padding='same'))\n",
        "\n",
        "meso_model.add(Conv2D(16, (5, 5), padding='same', activation = 'relu'))\n",
        "meso_model.add(BatchNormalization())\n",
        "meso_model.add(MaxPooling2D(pool_size=(4, 4), padding='same'))\n",
        "\n",
        "\n",
        "meso_model.add(Flatten())  \n",
        "meso_model.add(Dropout(0.5))\n",
        "meso_model.add(Dense(16))\n",
        "meso_model.add(LeakyReLU(alpha=0.1))\n",
        "meso_model.add(Dropout(0.5))\n",
        "meso_model.add(Dense(1, activation = 'sigmoid'))\n"
      ],
      "execution_count": null,
      "outputs": []
    },
    {
      "cell_type": "code",
      "metadata": {
        "id": "ZEfNU9RWtRtt"
      },
      "source": [
        "#load weights\n",
        "meso_model.load_weights('/content/drive/MyDrive/models h files/Meso4_DF.h5')"
      ],
      "execution_count": null,
      "outputs": []
    },
    {
      "cell_type": "code",
      "metadata": {
        "colab": {
          "base_uri": "https://localhost:8080/"
        },
        "id": "oNY0ZLZAtXtz",
        "outputId": "755ca791-e298-40f9-e47a-c67b9d59eab8"
      },
      "source": [
        "meso_model.summary()"
      ],
      "execution_count": null,
      "outputs": [
        {
          "output_type": "stream",
          "text": [
            "Model: \"sequential\"\n",
            "_________________________________________________________________\n",
            "Layer (type)                 Output Shape              Param #   \n",
            "=================================================================\n",
            "conv2d (Conv2D)              (None, 256, 256, 8)       224       \n",
            "_________________________________________________________________\n",
            "batch_normalization (BatchNo (None, 256, 256, 8)       32        \n",
            "_________________________________________________________________\n",
            "max_pooling2d (MaxPooling2D) (None, 128, 128, 8)       0         \n",
            "_________________________________________________________________\n",
            "conv2d_1 (Conv2D)            (None, 128, 128, 8)       1608      \n",
            "_________________________________________________________________\n",
            "batch_normalization_1 (Batch (None, 128, 128, 8)       32        \n",
            "_________________________________________________________________\n",
            "max_pooling2d_1 (MaxPooling2 (None, 64, 64, 8)         0         \n",
            "_________________________________________________________________\n",
            "conv2d_2 (Conv2D)            (None, 64, 64, 16)        3216      \n",
            "_________________________________________________________________\n",
            "batch_normalization_2 (Batch (None, 64, 64, 16)        64        \n",
            "_________________________________________________________________\n",
            "max_pooling2d_2 (MaxPooling2 (None, 32, 32, 16)        0         \n",
            "_________________________________________________________________\n",
            "conv2d_3 (Conv2D)            (None, 32, 32, 16)        6416      \n",
            "_________________________________________________________________\n",
            "batch_normalization_3 (Batch (None, 32, 32, 16)        64        \n",
            "_________________________________________________________________\n",
            "max_pooling2d_3 (MaxPooling2 (None, 8, 8, 16)          0         \n",
            "_________________________________________________________________\n",
            "flatten (Flatten)            (None, 1024)              0         \n",
            "_________________________________________________________________\n",
            "dropout (Dropout)            (None, 1024)              0         \n",
            "_________________________________________________________________\n",
            "dense (Dense)                (None, 16)                16400     \n",
            "_________________________________________________________________\n",
            "leaky_re_lu (LeakyReLU)      (None, 16)                0         \n",
            "_________________________________________________________________\n",
            "dropout_1 (Dropout)          (None, 16)                0         \n",
            "_________________________________________________________________\n",
            "dense_1 (Dense)              (None, 1)                 17        \n",
            "=================================================================\n",
            "Total params: 28,073\n",
            "Trainable params: 27,977\n",
            "Non-trainable params: 96\n",
            "_________________________________________________________________\n"
          ],
          "name": "stdout"
        }
      ]
    },
    {
      "cell_type": "code",
      "metadata": {
        "id": "OYXGIuWwsApz"
      },
      "source": [
        "meso_model.compile(optimizer = Adam(lr = 0.001), loss = 'mean_squared_error', metrics = ['accuracy'])"
      ],
      "execution_count": null,
      "outputs": []
    },
    {
      "cell_type": "code",
      "metadata": {
        "colab": {
          "base_uri": "https://localhost:8080/"
        },
        "id": "SCYheL8lkeE_",
        "outputId": "ad048caa-9f70-4f3d-e5f3-298e6d4b7794"
      },
      "source": [
        "acc = meso_model.evaluate(test_img, test_img_lable)#0.48 accracy with original weights of meso classifier"
      ],
      "execution_count": null,
      "outputs": [
        {
          "output_type": "stream",
          "text": [
            "25/25 [==============================] - 33s 27ms/step - loss: 0.3017 - accuracy: 0.4687\n"
          ],
          "name": "stdout"
        }
      ]
    },
    {
      "cell_type": "code",
      "metadata": {
        "id": "BtDJ4_Rgkh0C"
      },
      "source": [
        ""
      ],
      "execution_count": null,
      "outputs": []
    },
    {
      "cell_type": "code",
      "metadata": {
        "id": "-DUmpjS9kh3G"
      },
      "source": [
        "#freez feature extraction layers"
      ],
      "execution_count": null,
      "outputs": []
    },
    {
      "cell_type": "code",
      "metadata": {
        "id": "itBbj5JYkh54"
      },
      "source": [
        "#freez before compile****************************************"
      ],
      "execution_count": null,
      "outputs": []
    },
    {
      "cell_type": "code",
      "metadata": {
        "id": "4i4__RzptZgL"
      },
      "source": [
        "for layer in meso_model.layers[:12]:\n",
        "  layer.trainable = False\n",
        "  '''freez feature extractor weights'''"
      ],
      "execution_count": null,
      "outputs": []
    },
    {
      "cell_type": "code",
      "metadata": {
        "id": "4qlwCNZXtoZq"
      },
      "source": [
        "'''\n",
        "for layer in meso_model.layers[:12]:\n",
        "  layer.training = False\n",
        "  \n",
        "  When you unfreeze a model that contains BatchNormalization layers in order to do fine-tuning,\n",
        "   you should keep the BatchNormalization layers in inference mode by passing training = False when calling the base model. Otherwise,\n",
        "   the updates applied to the non-trainable weights will destroy what the model has learned.\n",
        "  '''"
      ],
      "execution_count": null,
      "outputs": []
    },
    {
      "cell_type": "code",
      "metadata": {
        "colab": {
          "base_uri": "https://localhost:8080/"
        },
        "id": "O16hPzUPtkD3",
        "outputId": "007ae3d8-10de-4efd-9c6b-7d754d3e1282"
      },
      "source": [
        "meso_model.summary()"
      ],
      "execution_count": null,
      "outputs": [
        {
          "output_type": "stream",
          "text": [
            "Model: \"sequential\"\n",
            "_________________________________________________________________\n",
            "Layer (type)                 Output Shape              Param #   \n",
            "=================================================================\n",
            "conv2d (Conv2D)              (None, 256, 256, 8)       224       \n",
            "_________________________________________________________________\n",
            "batch_normalization (BatchNo (None, 256, 256, 8)       32        \n",
            "_________________________________________________________________\n",
            "max_pooling2d (MaxPooling2D) (None, 128, 128, 8)       0         \n",
            "_________________________________________________________________\n",
            "conv2d_1 (Conv2D)            (None, 128, 128, 8)       1608      \n",
            "_________________________________________________________________\n",
            "batch_normalization_1 (Batch (None, 128, 128, 8)       32        \n",
            "_________________________________________________________________\n",
            "max_pooling2d_1 (MaxPooling2 (None, 64, 64, 8)         0         \n",
            "_________________________________________________________________\n",
            "conv2d_2 (Conv2D)            (None, 64, 64, 16)        3216      \n",
            "_________________________________________________________________\n",
            "batch_normalization_2 (Batch (None, 64, 64, 16)        64        \n",
            "_________________________________________________________________\n",
            "max_pooling2d_2 (MaxPooling2 (None, 32, 32, 16)        0         \n",
            "_________________________________________________________________\n",
            "conv2d_3 (Conv2D)            (None, 32, 32, 16)        6416      \n",
            "_________________________________________________________________\n",
            "batch_normalization_3 (Batch (None, 32, 32, 16)        64        \n",
            "_________________________________________________________________\n",
            "max_pooling2d_3 (MaxPooling2 (None, 8, 8, 16)          0         \n",
            "_________________________________________________________________\n",
            "flatten (Flatten)            (None, 1024)              0         \n",
            "_________________________________________________________________\n",
            "dropout (Dropout)            (None, 1024)              0         \n",
            "_________________________________________________________________\n",
            "dense (Dense)                (None, 16)                16400     \n",
            "_________________________________________________________________\n",
            "leaky_re_lu (LeakyReLU)      (None, 16)                0         \n",
            "_________________________________________________________________\n",
            "dropout_1 (Dropout)          (None, 16)                0         \n",
            "_________________________________________________________________\n",
            "dense_1 (Dense)              (None, 1)                 17        \n",
            "=================================================================\n",
            "Total params: 28,073\n",
            "Trainable params: 16,417\n",
            "Non-trainable params: 11,656\n",
            "_________________________________________________________________\n"
          ],
          "name": "stdout"
        }
      ]
    },
    {
      "cell_type": "code",
      "metadata": {
        "id": "GuhMwohImHyl"
      },
      "source": [
        "meso_model.compile(optimizer = Adam(lr = 0.001), loss = 'mean_squared_error', metrics = ['accuracy'])"
      ],
      "execution_count": null,
      "outputs": []
    },
    {
      "cell_type": "code",
      "metadata": {
        "colab": {
          "base_uri": "https://localhost:8080/"
        },
        "id": "CmOD33SJmH9W",
        "outputId": "f44ba36c-6d3f-4a7d-c2fa-20df8eadd6e1"
      },
      "source": [
        "meso_model.fit(train_img,train_img_lable ,validation_data=(test_img, test_img_lable),epochs = 10)"
      ],
      "execution_count": null,
      "outputs": [
        {
          "output_type": "stream",
          "text": [
            "Epoch 1/10\n",
            "101/101 [==============================] - 38s 53ms/step - loss: 0.2543 - accuracy: 0.5711 - val_loss: 0.2030 - val_accuracy: 0.6971\n",
            "Epoch 2/10\n",
            "101/101 [==============================] - 2s 22ms/step - loss: 0.2182 - accuracy: 0.6606 - val_loss: 0.1888 - val_accuracy: 0.7171\n",
            "Epoch 3/10\n",
            "101/101 [==============================] - 2s 22ms/step - loss: 0.2016 - accuracy: 0.6793 - val_loss: 0.1874 - val_accuracy: 0.7409\n",
            "Epoch 4/10\n",
            "101/101 [==============================] - 2s 22ms/step - loss: 0.1804 - accuracy: 0.7227 - val_loss: 0.1933 - val_accuracy: 0.7697\n",
            "Epoch 5/10\n",
            "101/101 [==============================] - 2s 22ms/step - loss: 0.1707 - accuracy: 0.7422 - val_loss: 0.1910 - val_accuracy: 0.7772\n",
            "Epoch 6/10\n",
            "101/101 [==============================] - 2s 22ms/step - loss: 0.1644 - accuracy: 0.7591 - val_loss: 0.1916 - val_accuracy: 0.7159\n",
            "Epoch 7/10\n",
            "101/101 [==============================] - 2s 23ms/step - loss: 0.1606 - accuracy: 0.7581 - val_loss: 0.2017 - val_accuracy: 0.6984\n",
            "Epoch 8/10\n",
            "101/101 [==============================] - 2s 22ms/step - loss: 0.1481 - accuracy: 0.7749 - val_loss: 0.2091 - val_accuracy: 0.6921\n",
            "Epoch 9/10\n",
            "101/101 [==============================] - 2s 22ms/step - loss: 0.1504 - accuracy: 0.7766 - val_loss: 0.2168 - val_accuracy: 0.6446\n",
            "Epoch 10/10\n",
            "101/101 [==============================] - 2s 22ms/step - loss: 0.1432 - accuracy: 0.7886 - val_loss: 0.2106 - val_accuracy: 0.7009\n"
          ],
          "name": "stdout"
        },
        {
          "output_type": "execute_result",
          "data": {
            "text/plain": [
              "<tensorflow.python.keras.callbacks.History at 0x7fa5fc588ad0>"
            ]
          },
          "metadata": {
            "tags": []
          },
          "execution_count": 31
        }
      ]
    },
    {
      "cell_type": "code",
      "metadata": {
        "id": "NIWmKzuglAfm"
      },
      "source": [
        ""
      ],
      "execution_count": null,
      "outputs": []
    },
    {
      "cell_type": "code",
      "metadata": {
        "id": "NZruQRAMogsb"
      },
      "source": [
        "save_model_and_weights(meso_model ,'pre_meso_model_78_acc_70_val.h5','/content/drive/MyDrive/models h files/')"
      ],
      "execution_count": null,
      "outputs": []
    },
    {
      "cell_type": "code",
      "metadata": {
        "id": "Npw4IkJ8racM"
      },
      "source": [
        "loaded_model = load_model_and_weights('/content/drive/MyDrive/models h files/pre_meso_model_78_acc_70_val.h5')"
      ],
      "execution_count": null,
      "outputs": []
    },
    {
      "cell_type": "code",
      "metadata": {
        "colab": {
          "base_uri": "https://localhost:8080/"
        },
        "id": "WxnbSgfHrafV",
        "outputId": "5cb1600f-b172-4df9-f380-9110c0394936"
      },
      "source": [
        "loaded_model.summary()"
      ],
      "execution_count": null,
      "outputs": [
        {
          "output_type": "stream",
          "text": [
            "Model: \"sequential\"\n",
            "_________________________________________________________________\n",
            "Layer (type)                 Output Shape              Param #   \n",
            "=================================================================\n",
            "conv2d (Conv2D)              (None, 256, 256, 8)       224       \n",
            "_________________________________________________________________\n",
            "batch_normalization (BatchNo (None, 256, 256, 8)       32        \n",
            "_________________________________________________________________\n",
            "max_pooling2d (MaxPooling2D) (None, 128, 128, 8)       0         \n",
            "_________________________________________________________________\n",
            "conv2d_1 (Conv2D)            (None, 128, 128, 8)       1608      \n",
            "_________________________________________________________________\n",
            "batch_normalization_1 (Batch (None, 128, 128, 8)       32        \n",
            "_________________________________________________________________\n",
            "max_pooling2d_1 (MaxPooling2 (None, 64, 64, 8)         0         \n",
            "_________________________________________________________________\n",
            "conv2d_2 (Conv2D)            (None, 64, 64, 16)        3216      \n",
            "_________________________________________________________________\n",
            "batch_normalization_2 (Batch (None, 64, 64, 16)        64        \n",
            "_________________________________________________________________\n",
            "max_pooling2d_2 (MaxPooling2 (None, 32, 32, 16)        0         \n",
            "_________________________________________________________________\n",
            "conv2d_3 (Conv2D)            (None, 32, 32, 16)        6416      \n",
            "_________________________________________________________________\n",
            "batch_normalization_3 (Batch (None, 32, 32, 16)        64        \n",
            "_________________________________________________________________\n",
            "max_pooling2d_3 (MaxPooling2 (None, 8, 8, 16)          0         \n",
            "_________________________________________________________________\n",
            "flatten (Flatten)            (None, 1024)              0         \n",
            "_________________________________________________________________\n",
            "dropout (Dropout)            (None, 1024)              0         \n",
            "_________________________________________________________________\n",
            "dense (Dense)                (None, 16)                16400     \n",
            "_________________________________________________________________\n",
            "leaky_re_lu (LeakyReLU)      (None, 16)                0         \n",
            "_________________________________________________________________\n",
            "dropout_1 (Dropout)          (None, 16)                0         \n",
            "_________________________________________________________________\n",
            "dense_1 (Dense)              (None, 1)                 17        \n",
            "=================================================================\n",
            "Total params: 28,073\n",
            "Trainable params: 16,417\n",
            "Non-trainable params: 11,656\n",
            "_________________________________________________________________\n"
          ],
          "name": "stdout"
        }
      ]
    },
    {
      "cell_type": "code",
      "metadata": {
        "id": "dOfVmfahrajJ"
      },
      "source": [
        ""
      ],
      "execution_count": null,
      "outputs": []
    },
    {
      "cell_type": "code",
      "metadata": {
        "id": "U8Es9YL8ratn"
      },
      "source": [
        ""
      ],
      "execution_count": null,
      "outputs": []
    },
    {
      "cell_type": "markdown",
      "metadata": {
        "id": "vlA0uqRPl_Ol"
      },
      "source": [
        "####2.1.2 VGG16\n"
      ]
    },
    {
      "cell_type": "code",
      "metadata": {
        "id": "v-ae8byTmJJK"
      },
      "source": [
        "from keras.models import Model, Sequential\n",
        "from keras.layers import Dense, Flatten, Conv2D, MaxPooling2D\n",
        "from keras.layers.normalization import BatchNormalization\n",
        "import os\n",
        "import seaborn as sns\n",
        "from keras.applications.vgg16 import VGG16"
      ],
      "execution_count": null,
      "outputs": []
    },
    {
      "cell_type": "code",
      "metadata": {
        "id": "0Y7qmjY3mCeT"
      },
      "source": [
        "vgg = tf.keras.applications.VGG16(include_top=False, weights='imagenet',  input_shape = (image_dimensions['height'],image_dimensions['width'],image_dimensions['channels']))"
      ],
      "execution_count": null,
      "outputs": []
    },
    {
      "cell_type": "code",
      "metadata": {
        "id": "8urERYO-mCh9"
      },
      "source": [
        "vgg.summary()"
      ],
      "execution_count": null,
      "outputs": []
    },
    {
      "cell_type": "code",
      "metadata": {
        "id": "BD-7KdzKmCmx"
      },
      "source": [
        "for layer in vgg.layers:\n",
        "  layer.trainable = False"
      ],
      "execution_count": null,
      "outputs": []
    },
    {
      "cell_type": "code",
      "metadata": {
        "colab": {
          "base_uri": "https://localhost:8080/"
        },
        "id": "c9Iz1MtcmCqA",
        "outputId": "33fbd04e-0c90-4377-e02c-05789b547218"
      },
      "source": [
        "vgg.summary()"
      ],
      "execution_count": null,
      "outputs": [
        {
          "output_type": "stream",
          "text": [
            "Model: \"vgg16\"\n",
            "_________________________________________________________________\n",
            "Layer (type)                 Output Shape              Param #   \n",
            "=================================================================\n",
            "input_2 (InputLayer)         [(None, 256, 256, 3)]     0         \n",
            "_________________________________________________________________\n",
            "block1_conv1 (Conv2D)        (None, 256, 256, 64)      1792      \n",
            "_________________________________________________________________\n",
            "block1_conv2 (Conv2D)        (None, 256, 256, 64)      36928     \n",
            "_________________________________________________________________\n",
            "block1_pool (MaxPooling2D)   (None, 128, 128, 64)      0         \n",
            "_________________________________________________________________\n",
            "block2_conv1 (Conv2D)        (None, 128, 128, 128)     73856     \n",
            "_________________________________________________________________\n",
            "block2_conv2 (Conv2D)        (None, 128, 128, 128)     147584    \n",
            "_________________________________________________________________\n",
            "block2_pool (MaxPooling2D)   (None, 64, 64, 128)       0         \n",
            "_________________________________________________________________\n",
            "block3_conv1 (Conv2D)        (None, 64, 64, 256)       295168    \n",
            "_________________________________________________________________\n",
            "block3_conv2 (Conv2D)        (None, 64, 64, 256)       590080    \n",
            "_________________________________________________________________\n",
            "block3_conv3 (Conv2D)        (None, 64, 64, 256)       590080    \n",
            "_________________________________________________________________\n",
            "block3_pool (MaxPooling2D)   (None, 32, 32, 256)       0         \n",
            "_________________________________________________________________\n",
            "block4_conv1 (Conv2D)        (None, 32, 32, 512)       1180160   \n",
            "_________________________________________________________________\n",
            "block4_conv2 (Conv2D)        (None, 32, 32, 512)       2359808   \n",
            "_________________________________________________________________\n",
            "block4_conv3 (Conv2D)        (None, 32, 32, 512)       2359808   \n",
            "_________________________________________________________________\n",
            "block4_pool (MaxPooling2D)   (None, 16, 16, 512)       0         \n",
            "_________________________________________________________________\n",
            "block5_conv1 (Conv2D)        (None, 16, 16, 512)       2359808   \n",
            "_________________________________________________________________\n",
            "block5_conv2 (Conv2D)        (None, 16, 16, 512)       2359808   \n",
            "_________________________________________________________________\n",
            "block5_conv3 (Conv2D)        (None, 16, 16, 512)       2359808   \n",
            "_________________________________________________________________\n",
            "block5_pool (MaxPooling2D)   (None, 8, 8, 512)         0         \n",
            "=================================================================\n",
            "Total params: 14,714,688\n",
            "Trainable params: 0\n",
            "Non-trainable params: 14,714,688\n",
            "_________________________________________________________________\n"
          ],
          "name": "stdout"
        }
      ]
    },
    {
      "cell_type": "code",
      "metadata": {
        "id": "VT7XtH-9pwjJ"
      },
      "source": [
        "x = vgg.output\n",
        "x = Flatten()(x)\n",
        "x = Dropout(0.5)(x)\n",
        "x = Dense(16)(x)\n",
        "x = LeakyReLU(alpha=0.1)(x)\n",
        "x = Dropout(0.5)(x)\n",
        "x = Dense(1, activation = 'sigmoid')(x)\n",
        "pre_model = Model(inputs=vgg.input, outputs=x)"
      ],
      "execution_count": null,
      "outputs": []
    },
    {
      "cell_type": "code",
      "metadata": {
        "colab": {
          "base_uri": "https://localhost:8080/"
        },
        "id": "R5zGMyTro83b",
        "outputId": "62a18783-c307-4eea-c332-bd984f05cf4b"
      },
      "source": [
        "pre_model.summary()"
      ],
      "execution_count": null,
      "outputs": [
        {
          "output_type": "stream",
          "text": [
            "Model: \"model\"\n",
            "_________________________________________________________________\n",
            "Layer (type)                 Output Shape              Param #   \n",
            "=================================================================\n",
            "input_2 (InputLayer)         [(None, 256, 256, 3)]     0         \n",
            "_________________________________________________________________\n",
            "block1_conv1 (Conv2D)        (None, 256, 256, 64)      1792      \n",
            "_________________________________________________________________\n",
            "block1_conv2 (Conv2D)        (None, 256, 256, 64)      36928     \n",
            "_________________________________________________________________\n",
            "block1_pool (MaxPooling2D)   (None, 128, 128, 64)      0         \n",
            "_________________________________________________________________\n",
            "block2_conv1 (Conv2D)        (None, 128, 128, 128)     73856     \n",
            "_________________________________________________________________\n",
            "block2_conv2 (Conv2D)        (None, 128, 128, 128)     147584    \n",
            "_________________________________________________________________\n",
            "block2_pool (MaxPooling2D)   (None, 64, 64, 128)       0         \n",
            "_________________________________________________________________\n",
            "block3_conv1 (Conv2D)        (None, 64, 64, 256)       295168    \n",
            "_________________________________________________________________\n",
            "block3_conv2 (Conv2D)        (None, 64, 64, 256)       590080    \n",
            "_________________________________________________________________\n",
            "block3_conv3 (Conv2D)        (None, 64, 64, 256)       590080    \n",
            "_________________________________________________________________\n",
            "block3_pool (MaxPooling2D)   (None, 32, 32, 256)       0         \n",
            "_________________________________________________________________\n",
            "block4_conv1 (Conv2D)        (None, 32, 32, 512)       1180160   \n",
            "_________________________________________________________________\n",
            "block4_conv2 (Conv2D)        (None, 32, 32, 512)       2359808   \n",
            "_________________________________________________________________\n",
            "block4_conv3 (Conv2D)        (None, 32, 32, 512)       2359808   \n",
            "_________________________________________________________________\n",
            "block4_pool (MaxPooling2D)   (None, 16, 16, 512)       0         \n",
            "_________________________________________________________________\n",
            "block5_conv1 (Conv2D)        (None, 16, 16, 512)       2359808   \n",
            "_________________________________________________________________\n",
            "block5_conv2 (Conv2D)        (None, 16, 16, 512)       2359808   \n",
            "_________________________________________________________________\n",
            "block5_conv3 (Conv2D)        (None, 16, 16, 512)       2359808   \n",
            "_________________________________________________________________\n",
            "block5_pool (MaxPooling2D)   (None, 8, 8, 512)         0         \n",
            "_________________________________________________________________\n",
            "flatten (Flatten)            (None, 32768)             0         \n",
            "_________________________________________________________________\n",
            "dropout (Dropout)            (None, 32768)             0         \n",
            "_________________________________________________________________\n",
            "dense (Dense)                (None, 16)                524304    \n",
            "_________________________________________________________________\n",
            "leaky_re_lu (LeakyReLU)      (None, 16)                0         \n",
            "_________________________________________________________________\n",
            "dropout_1 (Dropout)          (None, 16)                0         \n",
            "_________________________________________________________________\n",
            "dense_1 (Dense)              (None, 1)                 17        \n",
            "=================================================================\n",
            "Total params: 15,239,009\n",
            "Trainable params: 524,321\n",
            "Non-trainable params: 14,714,688\n",
            "_________________________________________________________________\n"
          ],
          "name": "stdout"
        }
      ]
    },
    {
      "cell_type": "code",
      "metadata": {
        "id": "5xCQbaKTo86F"
      },
      "source": [
        "pre_model.compile(optimizer = Adam(lr = 0.001), loss = 'mean_squared_error', metrics = ['accuracy'])"
      ],
      "execution_count": null,
      "outputs": []
    },
    {
      "cell_type": "code",
      "metadata": {
        "colab": {
          "base_uri": "https://localhost:8080/"
        },
        "id": "ELqIQA_ao88a",
        "outputId": "31f5fd45-965e-4ffd-95ef-829e4d965180"
      },
      "source": [
        "pre_model.fit(train_img,train_img_lable ,validation_data=(test_img, test_img_lable),epochs = 2)"
      ],
      "execution_count": null,
      "outputs": [
        {
          "output_type": "stream",
          "text": [
            "Epoch 1/2\n",
            "101/101 [==============================] - 91s 492ms/step - loss: 0.2679 - accuracy: 0.5960 - val_loss: 0.2981 - val_accuracy: 0.5544\n",
            "Epoch 2/2\n",
            "101/101 [==============================] - 23s 228ms/step - loss: 0.1751 - accuracy: 0.7399 - val_loss: 0.1723 - val_accuracy: 0.7434\n"
          ],
          "name": "stdout"
        },
        {
          "output_type": "execute_result",
          "data": {
            "text/plain": [
              "<tensorflow.python.keras.callbacks.History at 0x7f5cec071690>"
            ]
          },
          "metadata": {
            "tags": []
          },
          "execution_count": 33
        }
      ]
    },
    {
      "cell_type": "code",
      "metadata": {
        "id": "X7jftoXuR0vI"
      },
      "source": [
        "#save model......."
      ],
      "execution_count": null,
      "outputs": []
    },
    {
      "cell_type": "code",
      "metadata": {
        "id": "u5owcQGkR0yL"
      },
      "source": [
        ""
      ],
      "execution_count": null,
      "outputs": []
    },
    {
      "cell_type": "code",
      "metadata": {
        "id": "3WuEo89y-JCH"
      },
      "source": [
        ""
      ],
      "execution_count": null,
      "outputs": []
    },
    {
      "cell_type": "markdown",
      "metadata": {
        "id": "njmUNxVN91gR"
      },
      "source": [
        "####  2.1.3 model 3\n",
        "\n"
      ]
    },
    {
      "cell_type": "code",
      "metadata": {
        "id": "valrtESl-EOr"
      },
      "source": [
        "#import libraries for the model"
      ],
      "execution_count": null,
      "outputs": []
    },
    {
      "cell_type": "code",
      "metadata": {
        "id": "NmQAUCjdsBXW"
      },
      "source": [
        "#(optional) do some augmentation"
      ],
      "execution_count": null,
      "outputs": []
    },
    {
      "cell_type": "code",
      "metadata": {
        "id": "KO0zsoqA-6L6"
      },
      "source": [
        "#define archetctre and load weights"
      ],
      "execution_count": null,
      "outputs": []
    },
    {
      "cell_type": "code",
      "metadata": {
        "id": "DsU_4nO0-6Oz"
      },
      "source": [
        "#compile and fit the model"
      ],
      "execution_count": null,
      "outputs": []
    },
    {
      "cell_type": "code",
      "metadata": {
        "id": "uvgIb6RZ-6RS"
      },
      "source": [
        "#save the model"
      ],
      "execution_count": null,
      "outputs": []
    },
    {
      "cell_type": "code",
      "metadata": {
        "id": "IUJCrUzP_PHI"
      },
      "source": [
        "#go for section 3 and 4 to test on some videos "
      ],
      "execution_count": null,
      "outputs": []
    },
    {
      "cell_type": "code",
      "metadata": {
        "id": "kcbz_862_du2"
      },
      "source": [
        "#(optional) after prediction make some fine tuning"
      ],
      "execution_count": null,
      "outputs": []
    },
    {
      "cell_type": "markdown",
      "metadata": {
        "id": "JxMVfQlR96Nh"
      },
      "source": [
        "####2.1.4 model 4"
      ]
    },
    {
      "cell_type": "code",
      "metadata": {
        "id": "QFBkbS_q-E3_"
      },
      "source": [
        ""
      ],
      "execution_count": null,
      "outputs": []
    },
    {
      "cell_type": "markdown",
      "metadata": {
        "id": "DzlPtCFk-BRw"
      },
      "source": [
        "####2.1.5 model 5"
      ]
    },
    {
      "cell_type": "code",
      "metadata": {
        "id": "MyHWwaoL-Fre"
      },
      "source": [
        ""
      ],
      "execution_count": null,
      "outputs": []
    },
    {
      "cell_type": "markdown",
      "metadata": {
        "id": "NcuBsXSu22IO"
      },
      "source": [
        "###2.2 fine tuning (ignore it for now)"
      ]
    },
    {
      "cell_type": "code",
      "metadata": {
        "id": "ZdD7A2UhIQ3e"
      },
      "source": [
        "'''\n",
        "for layer in meso_model.layers[:12]:\n",
        "  layer.training = False\n",
        "  \n",
        "  When you unfreeze a model that contains BatchNormalization layers in order to do fine-tuning,\n",
        "   you should keep the BatchNormalization layers in inference mode by passing training = False when calling the base model. Otherwise,\n",
        "   the updates applied to the non-trainable weights will destroy what the model has learned.\n",
        "  '''"
      ],
      "execution_count": null,
      "outputs": []
    },
    {
      "cell_type": "code",
      "metadata": {
        "id": "rJz6NvEtCHsg"
      },
      "source": [
        "meso_model.trainable = True"
      ],
      "execution_count": null,
      "outputs": []
    },
    {
      "cell_type": "code",
      "metadata": {
        "id": "B3uDj68OCHva"
      },
      "source": [
        "for layer in meso_model.layers[:6]:\n",
        "  layer.trainable = False"
      ],
      "execution_count": null,
      "outputs": []
    },
    {
      "cell_type": "code",
      "metadata": {
        "id": "Haf1zrxJCHyr"
      },
      "source": [
        "meso_model.compile(optimizer = Adam(lr = 0.001), loss = 'mean_squared_error', metrics = ['accuracy'])"
      ],
      "execution_count": null,
      "outputs": []
    },
    {
      "cell_type": "code",
      "metadata": {
        "colab": {
          "base_uri": "https://localhost:8080/"
        },
        "id": "_ssLzymcjIeZ",
        "outputId": "17d2cee8-9f09-42a3-d2b4-8340abbd8f48"
      },
      "source": [
        "meso_model.summary()"
      ],
      "execution_count": null,
      "outputs": [
        {
          "output_type": "stream",
          "text": [
            "Model: \"sequential_1\"\n",
            "_________________________________________________________________\n",
            "Layer (type)                 Output Shape              Param #   \n",
            "=================================================================\n",
            "conv2d_4 (Conv2D)            (None, 256, 256, 8)       224       \n",
            "_________________________________________________________________\n",
            "batch_normalization_4 (Batch (None, 256, 256, 8)       32        \n",
            "_________________________________________________________________\n",
            "max_pooling2d_4 (MaxPooling2 (None, 128, 128, 8)       0         \n",
            "_________________________________________________________________\n",
            "conv2d_5 (Conv2D)            (None, 128, 128, 8)       1608      \n",
            "_________________________________________________________________\n",
            "batch_normalization_5 (Batch (None, 128, 128, 8)       32        \n",
            "_________________________________________________________________\n",
            "max_pooling2d_5 (MaxPooling2 (None, 64, 64, 8)         0         \n",
            "_________________________________________________________________\n",
            "conv2d_6 (Conv2D)            (None, 64, 64, 16)        3216      \n",
            "_________________________________________________________________\n",
            "batch_normalization_6 (Batch (None, 64, 64, 16)        64        \n",
            "_________________________________________________________________\n",
            "max_pooling2d_6 (MaxPooling2 (None, 32, 32, 16)        0         \n",
            "_________________________________________________________________\n",
            "conv2d_7 (Conv2D)            (None, 32, 32, 16)        6416      \n",
            "_________________________________________________________________\n",
            "batch_normalization_7 (Batch (None, 32, 32, 16)        64        \n",
            "_________________________________________________________________\n",
            "max_pooling2d_7 (MaxPooling2 (None, 8, 8, 16)          0         \n",
            "_________________________________________________________________\n",
            "flatten_1 (Flatten)          (None, 1024)              0         \n",
            "_________________________________________________________________\n",
            "dropout_2 (Dropout)          (None, 1024)              0         \n",
            "_________________________________________________________________\n",
            "dense_2 (Dense)              (None, 16)                16400     \n",
            "_________________________________________________________________\n",
            "leaky_re_lu_1 (LeakyReLU)    (None, 16)                0         \n",
            "_________________________________________________________________\n",
            "dropout_3 (Dropout)          (None, 16)                0         \n",
            "_________________________________________________________________\n",
            "dense_3 (Dense)              (None, 1)                 17        \n",
            "=================================================================\n",
            "Total params: 28,073\n",
            "Trainable params: 26,113\n",
            "Non-trainable params: 1,960\n",
            "_________________________________________________________________\n"
          ],
          "name": "stdout"
        }
      ]
    },
    {
      "cell_type": "code",
      "metadata": {
        "colab": {
          "base_uri": "https://localhost:8080/"
        },
        "id": "cDBG9yckjIhx",
        "outputId": "37b14d6f-bcc5-4ac9-d1f5-6115da1f6fbb"
      },
      "source": [
        "meso_model.fit(train_img,train_img_lable ,validation_data=(test_img, test_img_lable),epochs = 10)"
      ],
      "execution_count": null,
      "outputs": [
        {
          "output_type": "stream",
          "text": [
            "Epoch 1/10\n",
            "101/101 [==============================] - ETA: 0s - loss: 0.1515 - accuracy: 0.7819"
          ],
          "name": "stdout"
        }
      ]
    },
    {
      "cell_type": "code",
      "metadata": {
        "id": "jCdBKz3bjIkc"
      },
      "source": [
        "#ram out"
      ],
      "execution_count": null,
      "outputs": []
    },
    {
      "cell_type": "code",
      "metadata": {
        "colab": {
          "base_uri": "https://localhost:8080/"
        },
        "id": "d_fmi5EzgI46",
        "outputId": "a997cad5-739d-4fd4-bfe5-61f49734b9cc"
      },
      "source": [
        "acc = meso_model.evaluate(test_img, test_img_lable)"
      ],
      "execution_count": null,
      "outputs": [
        {
          "output_type": "stream",
          "text": [
            "25/25 [==============================] - 1s 21ms/step - loss: 0.1930 - accuracy: 0.7660\n"
          ],
          "name": "stdout"
        }
      ]
    },
    {
      "cell_type": "code",
      "metadata": {
        "id": "JFVBKTj3xWn6"
      },
      "source": [
        ""
      ],
      "execution_count": null,
      "outputs": []
    },
    {
      "cell_type": "markdown",
      "metadata": {
        "id": "14Yzmi5pzpeU"
      },
      "source": [
        "##3. test on fake video"
      ]
    },
    {
      "cell_type": "code",
      "metadata": {
        "id": "pHuYKTGqUCTN",
        "colab": {
          "base_uri": "https://localhost:8080/"
        },
        "outputId": "e15bfccf-0946-4726-92eb-8d1b9a6ad60e"
      },
      "source": [
        "predict_full_video('/content/drive/MyDrive/fake_vid/fake1.mp4',loaded_model)"
      ],
      "execution_count": null,
      "outputs": [
        {
          "output_type": "execute_result",
          "data": {
            "text/plain": [
              "[0, 1, 1, 0, 1, 0, 1, 0, 1, 1]"
            ]
          },
          "metadata": {
            "tags": []
          },
          "execution_count": 43
        }
      ]
    },
    {
      "cell_type": "code",
      "metadata": {
        "colab": {
          "base_uri": "https://localhost:8080/"
        },
        "id": "M-8yLtbryqXs",
        "outputId": "42c21904-b8f4-4da3-f574-e360a690e280"
      },
      "source": [
        "predict_full_video('/content/drive/MyDrive/fake_vid/fake2.mp4',loaded_model)"
      ],
      "execution_count": null,
      "outputs": [
        {
          "output_type": "execute_result",
          "data": {
            "text/plain": [
              "[0, 0, 0, 0, 0, 0, 0, 0, 0, 0]"
            ]
          },
          "metadata": {
            "tags": []
          },
          "execution_count": 44
        }
      ]
    },
    {
      "cell_type": "code",
      "metadata": {
        "colab": {
          "base_uri": "https://localhost:8080/"
        },
        "id": "p4zcWhozRwwM",
        "outputId": "fd35ab4d-5afa-472c-f414-80391295a161"
      },
      "source": [
        "predict_full_video('/content/drive/MyDrive/fake_vid/fake3.mp4',loaded_model)"
      ],
      "execution_count": null,
      "outputs": [
        {
          "output_type": "execute_result",
          "data": {
            "text/plain": [
              "[1, 0]"
            ]
          },
          "metadata": {
            "tags": []
          },
          "execution_count": 45
        }
      ]
    },
    {
      "cell_type": "code",
      "metadata": {
        "colab": {
          "base_uri": "https://localhost:8080/"
        },
        "id": "9bhdl4bWRwzW",
        "outputId": "929d4a49-7efd-431c-d715-300b55c27b98"
      },
      "source": [
        "predict_full_video('/content/drive/MyDrive/fake_vid/fake4.mp4',loaded_model)"
      ],
      "execution_count": null,
      "outputs": [
        {
          "output_type": "execute_result",
          "data": {
            "text/plain": [
              "[0, 0, 1, 0, 0, 0, 1, 0, 0, 1]"
            ]
          },
          "metadata": {
            "tags": []
          },
          "execution_count": 46
        }
      ]
    },
    {
      "cell_type": "code",
      "metadata": {
        "colab": {
          "base_uri": "https://localhost:8080/"
        },
        "id": "TwK7xVcaRw2I",
        "outputId": "65b363eb-ad2d-4815-be0a-a3b66b990b7a"
      },
      "source": [
        "predict_full_video('/content/drive/MyDrive/fake_vid/fake5.mp4',loaded_model)"
      ],
      "execution_count": null,
      "outputs": [
        {
          "output_type": "execute_result",
          "data": {
            "text/plain": [
              "[0, 0, 0, 0, 0, 0, 0, 1, 1, 0]"
            ]
          },
          "metadata": {
            "tags": []
          },
          "execution_count": 47
        }
      ]
    },
    {
      "cell_type": "code",
      "metadata": {
        "colab": {
          "base_uri": "https://localhost:8080/"
        },
        "id": "6JX_SIHfRxB2",
        "outputId": "e0aabc0d-1bb4-4f53-c240-ade99cd6877b"
      },
      "source": [
        "predict_full_video('/content/drive/MyDrive/fake_vid/fake6.mp4',loaded_model)"
      ],
      "execution_count": null,
      "outputs": [
        {
          "output_type": "execute_result",
          "data": {
            "text/plain": [
              "[0, 0, 0, 0, 0, 0, 0]"
            ]
          },
          "metadata": {
            "tags": []
          },
          "execution_count": 48
        }
      ]
    },
    {
      "cell_type": "code",
      "metadata": {
        "colab": {
          "base_uri": "https://localhost:8080/"
        },
        "id": "eQP3ph2vR3AN",
        "outputId": "12dc8676-05c5-48e9-cb6c-d1009e4bee24"
      },
      "source": [
        "predict_full_video('/content/drive/MyDrive/fake_vid/fake7.mp4',loaded_model)"
      ],
      "execution_count": null,
      "outputs": [
        {
          "output_type": "execute_result",
          "data": {
            "text/plain": [
              "[0, 0, 0, 0, 0, 0, 0, 0, 0, 0]"
            ]
          },
          "metadata": {
            "tags": []
          },
          "execution_count": 49
        }
      ]
    },
    {
      "cell_type": "code",
      "metadata": {
        "colab": {
          "base_uri": "https://localhost:8080/"
        },
        "id": "X0n9EwVkTj5M",
        "outputId": "d7591ee3-3145-43f2-9409-e5480333392f"
      },
      "source": [
        "predict_full_video('/content/drive/MyDrive/fake_vid/fake8.mp4',loaded_model)"
      ],
      "execution_count": null,
      "outputs": [
        {
          "output_type": "execute_result",
          "data": {
            "text/plain": [
              "[0, 0]"
            ]
          },
          "metadata": {
            "tags": []
          },
          "execution_count": 50
        }
      ]
    },
    {
      "cell_type": "code",
      "metadata": {
        "colab": {
          "base_uri": "https://localhost:8080/"
        },
        "id": "I7fMbgUuTj8G",
        "outputId": "26226bf4-0994-413e-b793-a41a5f371b52"
      },
      "source": [
        "predict_full_video('/content/drive/MyDrive/fake_vid/fake9.mp4',loaded_model)"
      ],
      "execution_count": null,
      "outputs": [
        {
          "output_type": "execute_result",
          "data": {
            "text/plain": [
              "[]"
            ]
          },
          "metadata": {
            "tags": []
          },
          "execution_count": 51
        }
      ]
    },
    {
      "cell_type": "code",
      "metadata": {
        "colab": {
          "base_uri": "https://localhost:8080/"
        },
        "id": "LcRzzTerTj-8",
        "outputId": "4ae6f139-40bb-425c-f309-61af55e229d1"
      },
      "source": [
        "predict_full_video('/content/drive/MyDrive/fake_vid/fake10.mp4',loaded_model)"
      ],
      "execution_count": null,
      "outputs": [
        {
          "output_type": "execute_result",
          "data": {
            "text/plain": [
              "[1, 1, 0, 1, 0, 0, 0, 0, 1, 1]"
            ]
          },
          "metadata": {
            "tags": []
          },
          "execution_count": 53
        }
      ]
    },
    {
      "cell_type": "code",
      "metadata": {
        "colab": {
          "base_uri": "https://localhost:8080/"
        },
        "id": "lmTbpHSkTkBY",
        "outputId": "6a55e00c-be66-49cb-f52c-bd48b31f91e8"
      },
      "source": [
        "predict_full_video('/content/drive/MyDrive/fake_vid/fake11.mp4',loaded_model)"
      ],
      "execution_count": null,
      "outputs": [
        {
          "output_type": "execute_result",
          "data": {
            "text/plain": [
              "[0, 0, 0, 0, 0, 0, 0, 0, 0, 0]"
            ]
          },
          "metadata": {
            "tags": []
          },
          "execution_count": 54
        }
      ]
    },
    {
      "cell_type": "code",
      "metadata": {
        "colab": {
          "base_uri": "https://localhost:8080/"
        },
        "id": "IFWrH-2VTkEa",
        "outputId": "ca77fcfc-7448-41e0-913f-fc8309ae729d"
      },
      "source": [
        "predict_full_video('/content/drive/MyDrive/fake_vid/fake12.mp4',loaded_model)"
      ],
      "execution_count": null,
      "outputs": [
        {
          "output_type": "execute_result",
          "data": {
            "text/plain": [
              "[0]"
            ]
          },
          "metadata": {
            "tags": []
          },
          "execution_count": 55
        }
      ]
    },
    {
      "cell_type": "code",
      "metadata": {
        "colab": {
          "base_uri": "https://localhost:8080/"
        },
        "id": "NA-dPM8aTkG4",
        "outputId": "924fe9ed-289b-40c3-b9bd-17abc0a5bf4d"
      },
      "source": [
        "predict_full_video('/content/drive/MyDrive/fake_vid/fake13.mp4',loaded_model)"
      ],
      "execution_count": null,
      "outputs": [
        {
          "output_type": "execute_result",
          "data": {
            "text/plain": [
              "[0, 1, 1, 0, 0, 1, 0, 0, 0, 0]"
            ]
          },
          "metadata": {
            "tags": []
          },
          "execution_count": 56
        }
      ]
    },
    {
      "cell_type": "markdown",
      "metadata": {
        "id": "_6ZcC1AyzlSR"
      },
      "source": [
        "##4. test on real video"
      ]
    },
    {
      "cell_type": "code",
      "metadata": {
        "id": "TPTYfBTcTkJu",
        "colab": {
          "base_uri": "https://localhost:8080/"
        },
        "outputId": "40ce2de6-6668-4f21-c5f8-7c05a703068e"
      },
      "source": [
        "predict_full_video('/content/drive/MyDrive/real_vid/real1.mp4',loaded_model)"
      ],
      "execution_count": null,
      "outputs": [
        {
          "output_type": "execute_result",
          "data": {
            "text/plain": [
              "[0, 0, 0, 1, 0, 0, 0, 0, 0, 0]"
            ]
          },
          "metadata": {
            "tags": []
          },
          "execution_count": 57
        }
      ]
    },
    {
      "cell_type": "code",
      "metadata": {
        "id": "Hw2BOtB7TkMS",
        "colab": {
          "base_uri": "https://localhost:8080/"
        },
        "outputId": "f9f97500-5c26-4156-c792-74ea4baf8f07"
      },
      "source": [
        "predict_full_video('/content/drive/MyDrive/real_vid/real2.mp4',loaded_model)"
      ],
      "execution_count": null,
      "outputs": [
        {
          "output_type": "execute_result",
          "data": {
            "text/plain": [
              "[0, 0, 0, 0, 0, 0, 0, 0, 0, 0]"
            ]
          },
          "metadata": {
            "tags": []
          },
          "execution_count": 58
        }
      ]
    },
    {
      "cell_type": "code",
      "metadata": {
        "id": "uiMoQXIZTkPC",
        "colab": {
          "base_uri": "https://localhost:8080/"
        },
        "outputId": "f97d5f26-fdc5-4e64-a9d1-c82f4470fb33"
      },
      "source": [
        "predict_full_video('/content/drive/MyDrive/real_vid/real3.mp4',loaded_model)"
      ],
      "execution_count": null,
      "outputs": [
        {
          "output_type": "execute_result",
          "data": {
            "text/plain": [
              "[1, 1, 0, 1, 1, 0, 0, 0, 0, 0]"
            ]
          },
          "metadata": {
            "tags": []
          },
          "execution_count": 59
        }
      ]
    },
    {
      "cell_type": "code",
      "metadata": {
        "id": "oiuPng2bR3D3",
        "colab": {
          "base_uri": "https://localhost:8080/"
        },
        "outputId": "cde36125-d7fc-4f1a-d914-cc68888067e5"
      },
      "source": [
        "predict_full_video('/content/drive/MyDrive/real_vid/real4.mp4',loaded_model)"
      ],
      "execution_count": null,
      "outputs": [
        {
          "output_type": "execute_result",
          "data": {
            "text/plain": [
              "[0, 0, 1, 1, 0, 1, 0, 0, 0]"
            ]
          },
          "metadata": {
            "tags": []
          },
          "execution_count": 60
        }
      ]
    },
    {
      "cell_type": "code",
      "metadata": {
        "colab": {
          "base_uri": "https://localhost:8080/"
        },
        "id": "jLHouygezNzw",
        "outputId": "1b43a1c0-96a4-4682-fa06-6922b196460f"
      },
      "source": [
        "predict_full_video('/content/drive/MyDrive/real_vid/real5.mp4',loaded_model)"
      ],
      "execution_count": null,
      "outputs": [
        {
          "output_type": "execute_result",
          "data": {
            "text/plain": [
              "[0, 0, 0, 0, 0, 0, 0, 0, 0, 0]"
            ]
          },
          "metadata": {
            "tags": []
          },
          "execution_count": 61
        }
      ]
    },
    {
      "cell_type": "code",
      "metadata": {
        "id": "e2fh43gZzN2o"
      },
      "source": [
        "predict_full_video('',loaded_model)"
      ],
      "execution_count": null,
      "outputs": []
    },
    {
      "cell_type": "code",
      "metadata": {
        "id": "ZoJUkDWXzN5t"
      },
      "source": [
        "predict_full_video('',loaded_model)"
      ],
      "execution_count": null,
      "outputs": []
    },
    {
      "cell_type": "code",
      "metadata": {
        "id": "qYYlq9LwzOIb"
      },
      "source": [
        ""
      ],
      "execution_count": null,
      "outputs": []
    },
    {
      "cell_type": "code",
      "metadata": {
        "colab": {
          "base_uri": "https://localhost:8080/"
        },
        "id": "WhDTqMXP_Ycu",
        "outputId": "1511b967-1dbb-4fbf-f3d0-2ef3f70d8849"
      },
      "source": [
        "predict_full_video('/content/drive/MyDrive/obama..mp4')"
      ],
      "execution_count": null,
      "outputs": [
        {
          "output_type": "execute_result",
          "data": {
            "text/plain": [
              "[1,\n",
              " 0,\n",
              " 0,\n",
              " 1,\n",
              " 1,\n",
              " 1,\n",
              " 1,\n",
              " 1,\n",
              " 1,\n",
              " 1,\n",
              " 0,\n",
              " 1,\n",
              " 0,\n",
              " 1,\n",
              " 1,\n",
              " 0,\n",
              " 1,\n",
              " 1,\n",
              " 1,\n",
              " 1,\n",
              " 1,\n",
              " 1,\n",
              " 1,\n",
              " 1,\n",
              " 1,\n",
              " 1,\n",
              " 1,\n",
              " 1,\n",
              " 0,\n",
              " 1,\n",
              " 0,\n",
              " 1,\n",
              " 0,\n",
              " 1,\n",
              " 1,\n",
              " 1,\n",
              " 1,\n",
              " 1,\n",
              " 0,\n",
              " 1,\n",
              " 1,\n",
              " 1,\n",
              " 1,\n",
              " 1,\n",
              " 1,\n",
              " 0,\n",
              " 0,\n",
              " 0]"
            ]
          },
          "metadata": {
            "tags": []
          },
          "execution_count": 73
        }
      ]
    },
    {
      "cell_type": "code",
      "metadata": {
        "id": "NPQAVAXrABv1"
      },
      "source": [
        "v = predict_full_video('/content/drive/MyDrive/obama..mp4')"
      ],
      "execution_count": null,
      "outputs": []
    },
    {
      "cell_type": "code",
      "metadata": {
        "colab": {
          "base_uri": "https://localhost:8080/"
        },
        "id": "XssyCOcJCghP",
        "outputId": "eee1be69-030f-4f73-d3a2-f68ea4bfe576"
      },
      "source": [
        "len(v)"
      ],
      "execution_count": null,
      "outputs": [
        {
          "output_type": "execute_result",
          "data": {
            "text/plain": [
              "48"
            ]
          },
          "metadata": {
            "tags": []
          },
          "execution_count": 76
        }
      ]
    },
    {
      "cell_type": "code",
      "metadata": {
        "colab": {
          "base_uri": "https://localhost:8080/"
        },
        "id": "B-S5jNplAgHC",
        "outputId": "afb9ecaf-5a11-42f1-d91a-2ce43b6099ef"
      },
      "source": [
        "lbl = [0 , 1]\n",
        "\n",
        "results = {}\n",
        "for i in lbl:\n",
        "        results[i] = v.count(i) \n",
        "results\n"
      ],
      "execution_count": null,
      "outputs": [
        {
          "output_type": "execute_result",
          "data": {
            "text/plain": [
              "{0: 12, 1: 36}"
            ]
          },
          "metadata": {
            "tags": []
          },
          "execution_count": 75
        }
      ]
    },
    {
      "cell_type": "code",
      "metadata": {
        "colab": {
          "base_uri": "https://localhost:8080/"
        },
        "id": "zN7QSjlz-bjr",
        "outputId": "3afd44f5-6aa6-44cc-8cfc-4b90552c0eca"
      },
      "source": [
        "final_video_predict('/content/drive/MyDrive/obama..mp4')"
      ],
      "execution_count": null,
      "outputs": [
        {
          "output_type": "execute_result",
          "data": {
            "text/plain": [
              "1"
            ]
          },
          "metadata": {
            "tags": []
          },
          "execution_count": 72
        }
      ]
    },
    {
      "cell_type": "code",
      "metadata": {
        "colab": {
          "base_uri": "https://localhost:8080/"
        },
        "id": "JFsvrHzU46ee",
        "outputId": "337b4a3e-2769-4409-ca58-908d8b8aa41e"
      },
      "source": [
        "predict_list(test_img)"
      ],
      "execution_count": null,
      "outputs": [
        {
          "output_type": "execute_result",
          "data": {
            "text/plain": [
              "[0,\n",
              " 1,\n",
              " 1,\n",
              " 0,\n",
              " 0,\n",
              " 1,\n",
              " 0,\n",
              " 1,\n",
              " 0,\n",
              " 1,\n",
              " 0,\n",
              " 1,\n",
              " 1,\n",
              " 0,\n",
              " 0,\n",
              " 1,\n",
              " 1,\n",
              " 0,\n",
              " 0,\n",
              " 0,\n",
              " 1,\n",
              " 0,\n",
              " 0,\n",
              " 0,\n",
              " 0,\n",
              " 0,\n",
              " 1,\n",
              " 1,\n",
              " 0,\n",
              " 1,\n",
              " 0,\n",
              " 0,\n",
              " 0,\n",
              " 0,\n",
              " 1,\n",
              " 0,\n",
              " 1,\n",
              " 0,\n",
              " 0,\n",
              " 0,\n",
              " 0,\n",
              " 0,\n",
              " 1,\n",
              " 1,\n",
              " 0,\n",
              " 1,\n",
              " 1,\n",
              " 0,\n",
              " 0,\n",
              " 1,\n",
              " 0,\n",
              " 1,\n",
              " 1,\n",
              " 0,\n",
              " 0,\n",
              " 0,\n",
              " 1,\n",
              " 1,\n",
              " 1,\n",
              " 1,\n",
              " 0,\n",
              " 1,\n",
              " 0,\n",
              " 0,\n",
              " 0,\n",
              " 1,\n",
              " 1,\n",
              " 1,\n",
              " 0,\n",
              " 0,\n",
              " 1,\n",
              " 1,\n",
              " 0,\n",
              " 0,\n",
              " 1,\n",
              " 0,\n",
              " 1,\n",
              " 1,\n",
              " 1,\n",
              " 1,\n",
              " 1,\n",
              " 0,\n",
              " 0,\n",
              " 0,\n",
              " 0,\n",
              " 0,\n",
              " 0,\n",
              " 1,\n",
              " 0,\n",
              " 1,\n",
              " 0,\n",
              " 1,\n",
              " 1,\n",
              " 0,\n",
              " 0,\n",
              " 1,\n",
              " 0,\n",
              " 0,\n",
              " 0,\n",
              " 1,\n",
              " 0,\n",
              " 0,\n",
              " 0,\n",
              " 1,\n",
              " 1,\n",
              " 0,\n",
              " 1,\n",
              " 1,\n",
              " 1,\n",
              " 0,\n",
              " 0,\n",
              " 0,\n",
              " 0,\n",
              " 0,\n",
              " 1,\n",
              " 1,\n",
              " 0,\n",
              " 0,\n",
              " 1,\n",
              " 1,\n",
              " 1,\n",
              " 0,\n",
              " 1,\n",
              " 0,\n",
              " 1,\n",
              " 0,\n",
              " 0,\n",
              " 1,\n",
              " 1,\n",
              " 0,\n",
              " 1,\n",
              " 1,\n",
              " 1,\n",
              " 0,\n",
              " 1,\n",
              " 0,\n",
              " 0,\n",
              " 0,\n",
              " 1,\n",
              " 0,\n",
              " 1,\n",
              " 1,\n",
              " 1,\n",
              " 0,\n",
              " 0,\n",
              " 0,\n",
              " 0,\n",
              " 1,\n",
              " 1,\n",
              " 0,\n",
              " 0,\n",
              " 0,\n",
              " 1,\n",
              " 1,\n",
              " 1,\n",
              " 1,\n",
              " 0,\n",
              " 1,\n",
              " 0,\n",
              " 0,\n",
              " 1,\n",
              " 0,\n",
              " 1,\n",
              " 1,\n",
              " 0,\n",
              " 1,\n",
              " 1,\n",
              " 0,\n",
              " 0,\n",
              " 1,\n",
              " 1,\n",
              " 0,\n",
              " 0,\n",
              " 0,\n",
              " 0,\n",
              " 1,\n",
              " 1,\n",
              " 1,\n",
              " 1,\n",
              " 0,\n",
              " 1,\n",
              " 1,\n",
              " 1,\n",
              " 1,\n",
              " 1,\n",
              " 0,\n",
              " 1,\n",
              " 1,\n",
              " 0,\n",
              " 1,\n",
              " 1,\n",
              " 1,\n",
              " 0,\n",
              " 1,\n",
              " 0,\n",
              " 0,\n",
              " 0,\n",
              " 0,\n",
              " 1,\n",
              " 1,\n",
              " 1,\n",
              " 0,\n",
              " 1,\n",
              " 0,\n",
              " 1,\n",
              " 1,\n",
              " 1,\n",
              " 0,\n",
              " 0,\n",
              " 0,\n",
              " 1,\n",
              " 1,\n",
              " 0,\n",
              " 1,\n",
              " 0,\n",
              " 1,\n",
              " 0,\n",
              " 1,\n",
              " 1,\n",
              " 1,\n",
              " 0,\n",
              " 0,\n",
              " 0,\n",
              " 0,\n",
              " 0,\n",
              " 0,\n",
              " 0,\n",
              " 0,\n",
              " 0,\n",
              " 1,\n",
              " 1,\n",
              " 0,\n",
              " 0,\n",
              " 1,\n",
              " 0,\n",
              " 0,\n",
              " 1,\n",
              " 1,\n",
              " 1,\n",
              " 1,\n",
              " 0,\n",
              " 1,\n",
              " 1,\n",
              " 0,\n",
              " 0,\n",
              " 0,\n",
              " 0,\n",
              " 1,\n",
              " 0,\n",
              " 1,\n",
              " 1,\n",
              " 1,\n",
              " 0,\n",
              " 1,\n",
              " 0,\n",
              " 0,\n",
              " 1,\n",
              " 0,\n",
              " 0,\n",
              " 0,\n",
              " 0,\n",
              " 1,\n",
              " 0,\n",
              " 0,\n",
              " 0,\n",
              " 0,\n",
              " 0,\n",
              " 0,\n",
              " 0,\n",
              " 0,\n",
              " 1,\n",
              " 0,\n",
              " 0,\n",
              " 1,\n",
              " 1,\n",
              " 1,\n",
              " 1,\n",
              " 0,\n",
              " 0,\n",
              " 1,\n",
              " 1,\n",
              " 1,\n",
              " 1,\n",
              " 0,\n",
              " 1,\n",
              " 0,\n",
              " 1,\n",
              " 0,\n",
              " 0,\n",
              " 0,\n",
              " 0,\n",
              " 1,\n",
              " 1,\n",
              " 1,\n",
              " 0,\n",
              " 1,\n",
              " 1,\n",
              " 0,\n",
              " 1,\n",
              " 0,\n",
              " 1,\n",
              " 1,\n",
              " 0,\n",
              " 1,\n",
              " 1,\n",
              " 0,\n",
              " 0,\n",
              " 0,\n",
              " 0,\n",
              " 1,\n",
              " 1,\n",
              " 1,\n",
              " 1,\n",
              " 0,\n",
              " 1,\n",
              " 0,\n",
              " 0,\n",
              " 0,\n",
              " 0,\n",
              " 1,\n",
              " 0,\n",
              " 1,\n",
              " 1,\n",
              " 0,\n",
              " 0,\n",
              " 1,\n",
              " 0,\n",
              " 0,\n",
              " 1,\n",
              " 1,\n",
              " 1,\n",
              " 0,\n",
              " 0,\n",
              " 1,\n",
              " 0,\n",
              " 0,\n",
              " 1,\n",
              " 1,\n",
              " 1,\n",
              " 1,\n",
              " 0,\n",
              " 0,\n",
              " 1,\n",
              " 1,\n",
              " 0,\n",
              " 1,\n",
              " 0,\n",
              " 1,\n",
              " 0,\n",
              " 0,\n",
              " 0,\n",
              " 0,\n",
              " 0,\n",
              " 1,\n",
              " 0,\n",
              " 1,\n",
              " 1,\n",
              " 0,\n",
              " 1,\n",
              " 0,\n",
              " 0,\n",
              " 1,\n",
              " 0,\n",
              " 0,\n",
              " 0,\n",
              " 0,\n",
              " 0,\n",
              " 1,\n",
              " 0,\n",
              " 1,\n",
              " 0,\n",
              " 0,\n",
              " 0,\n",
              " 0,\n",
              " 1,\n",
              " 0,\n",
              " 1,\n",
              " 1,\n",
              " 0,\n",
              " 0,\n",
              " 1,\n",
              " 0,\n",
              " 1,\n",
              " 1,\n",
              " 0,\n",
              " 1,\n",
              " 0,\n",
              " 1,\n",
              " 1,\n",
              " 0,\n",
              " 0,\n",
              " 1,\n",
              " 0,\n",
              " 0,\n",
              " 0,\n",
              " 0,\n",
              " 1,\n",
              " 1,\n",
              " 0,\n",
              " 0,\n",
              " 1,\n",
              " 0,\n",
              " 1,\n",
              " 1,\n",
              " 0,\n",
              " 0,\n",
              " 0,\n",
              " 1,\n",
              " 1,\n",
              " 1,\n",
              " 0,\n",
              " 1,\n",
              " 1,\n",
              " 1,\n",
              " 1,\n",
              " 0,\n",
              " 1,\n",
              " 0,\n",
              " 0,\n",
              " 0,\n",
              " 1,\n",
              " 0,\n",
              " 1,\n",
              " 0,\n",
              " 1,\n",
              " 0,\n",
              " 0,\n",
              " 0,\n",
              " 0,\n",
              " 0,\n",
              " 1,\n",
              " 0,\n",
              " 0,\n",
              " 0,\n",
              " 0,\n",
              " 0,\n",
              " 1,\n",
              " 1,\n",
              " 1,\n",
              " 1,\n",
              " 1,\n",
              " 0,\n",
              " 1,\n",
              " 0,\n",
              " 1,\n",
              " 1,\n",
              " 1,\n",
              " 0,\n",
              " 1,\n",
              " 1,\n",
              " 1,\n",
              " 1,\n",
              " 0,\n",
              " 1,\n",
              " 1,\n",
              " 0,\n",
              " 1,\n",
              " 1,\n",
              " 0,\n",
              " 1,\n",
              " 0,\n",
              " 0,\n",
              " 0,\n",
              " 0,\n",
              " 1,\n",
              " 1,\n",
              " 0,\n",
              " 1,\n",
              " 0,\n",
              " 1,\n",
              " 1,\n",
              " 1,\n",
              " 1,\n",
              " 1,\n",
              " 1,\n",
              " 1,\n",
              " 0,\n",
              " 0,\n",
              " 0,\n",
              " 0,\n",
              " 0,\n",
              " 1,\n",
              " 0,\n",
              " 1,\n",
              " 0,\n",
              " 1,\n",
              " 1,\n",
              " 0,\n",
              " 1,\n",
              " 0,\n",
              " 1,\n",
              " 0,\n",
              " 1,\n",
              " 0,\n",
              " 0,\n",
              " 0,\n",
              " 0,\n",
              " 0,\n",
              " 0,\n",
              " 1,\n",
              " 1,\n",
              " 0,\n",
              " 0,\n",
              " 1,\n",
              " 0,\n",
              " 1,\n",
              " 1,\n",
              " 1,\n",
              " 0,\n",
              " 0,\n",
              " 1,\n",
              " 0,\n",
              " 1,\n",
              " 0,\n",
              " 0,\n",
              " 0,\n",
              " 0,\n",
              " 1,\n",
              " 1,\n",
              " 1,\n",
              " 0,\n",
              " 0,\n",
              " 0,\n",
              " 0,\n",
              " 1,\n",
              " 1,\n",
              " 1,\n",
              " 0,\n",
              " 1,\n",
              " 1,\n",
              " 0,\n",
              " 0,\n",
              " 0,\n",
              " 0,\n",
              " 0,\n",
              " 1,\n",
              " 1,\n",
              " 1,\n",
              " 1,\n",
              " 0,\n",
              " 0,\n",
              " 0,\n",
              " 0,\n",
              " 1,\n",
              " 1,\n",
              " 0,\n",
              " 0,\n",
              " 1,\n",
              " 1,\n",
              " 1,\n",
              " 0,\n",
              " 0,\n",
              " 1,\n",
              " 0,\n",
              " 1,\n",
              " 0,\n",
              " 0,\n",
              " 0,\n",
              " 1,\n",
              " 1,\n",
              " 0,\n",
              " 1,\n",
              " 1,\n",
              " 1,\n",
              " 1,\n",
              " 0,\n",
              " 0,\n",
              " 0,\n",
              " 1,\n",
              " 1,\n",
              " 1,\n",
              " 0,\n",
              " 1,\n",
              " 1,\n",
              " 0,\n",
              " 1,\n",
              " 1,\n",
              " 1,\n",
              " 1,\n",
              " 0,\n",
              " 0,\n",
              " 0,\n",
              " 1,\n",
              " 1,\n",
              " 0,\n",
              " 0,\n",
              " 0,\n",
              " 1,\n",
              " 0,\n",
              " 1,\n",
              " 1,\n",
              " 1,\n",
              " 0,\n",
              " 1,\n",
              " 0,\n",
              " 1,\n",
              " 0,\n",
              " 1,\n",
              " 0,\n",
              " 0,\n",
              " 1,\n",
              " 0,\n",
              " 1,\n",
              " 1,\n",
              " 1,\n",
              " 1,\n",
              " 0,\n",
              " 0,\n",
              " 1,\n",
              " 1,\n",
              " 1,\n",
              " 0,\n",
              " 0,\n",
              " 1,\n",
              " 0,\n",
              " 1,\n",
              " 0,\n",
              " 1,\n",
              " 1,\n",
              " 0,\n",
              " 0,\n",
              " 1,\n",
              " 1,\n",
              " 0,\n",
              " 0,\n",
              " 0,\n",
              " 0,\n",
              " 0,\n",
              " 1,\n",
              " 1,\n",
              " 0,\n",
              " 0,\n",
              " 1,\n",
              " 0,\n",
              " 0,\n",
              " 1,\n",
              " 0,\n",
              " 1,\n",
              " 0,\n",
              " 1,\n",
              " 1,\n",
              " 1,\n",
              " 0,\n",
              " 1,\n",
              " 1,\n",
              " 1,\n",
              " 1,\n",
              " 0,\n",
              " 1,\n",
              " 1,\n",
              " 1,\n",
              " 1,\n",
              " 1,\n",
              " 1,\n",
              " 0,\n",
              " 1,\n",
              " 0,\n",
              " 1,\n",
              " 1,\n",
              " 0,\n",
              " 0,\n",
              " 1,\n",
              " 1,\n",
              " 1,\n",
              " 0,\n",
              " 0,\n",
              " 1,\n",
              " 0,\n",
              " 0,\n",
              " 1,\n",
              " 0,\n",
              " 1,\n",
              " 0,\n",
              " 1,\n",
              " 0,\n",
              " 0,\n",
              " 1,\n",
              " 1,\n",
              " 0,\n",
              " 0,\n",
              " 1,\n",
              " 1,\n",
              " 0,\n",
              " 1,\n",
              " 1,\n",
              " 1,\n",
              " 1,\n",
              " 0,\n",
              " 1,\n",
              " 0,\n",
              " 1,\n",
              " 1,\n",
              " 1,\n",
              " 1,\n",
              " 0,\n",
              " 0,\n",
              " 1,\n",
              " 1,\n",
              " 1,\n",
              " 1,\n",
              " 0,\n",
              " 0,\n",
              " 0,\n",
              " 0,\n",
              " 1,\n",
              " 1,\n",
              " 0,\n",
              " 0,\n",
              " 0,\n",
              " 1,\n",
              " 0,\n",
              " 0,\n",
              " 1,\n",
              " 0,\n",
              " 1,\n",
              " 1,\n",
              " 1,\n",
              " 1,\n",
              " 1,\n",
              " 1,\n",
              " 0,\n",
              " 1,\n",
              " 1,\n",
              " 0,\n",
              " 1,\n",
              " 1,\n",
              " 0,\n",
              " 1,\n",
              " 0,\n",
              " 1,\n",
              " 0,\n",
              " 1,\n",
              " 0,\n",
              " 1,\n",
              " 1,\n",
              " 0,\n",
              " 1,\n",
              " 1,\n",
              " 1,\n",
              " 1,\n",
              " 1,\n",
              " 1,\n",
              " 1,\n",
              " 0,\n",
              " 1,\n",
              " 1,\n",
              " 1,\n",
              " 1,\n",
              " 0,\n",
              " 1,\n",
              " 0,\n",
              " 0,\n",
              " 0,\n",
              " 1,\n",
              " 0,\n",
              " 1,\n",
              " 1,\n",
              " 1,\n",
              " 0,\n",
              " 0,\n",
              " 0,\n",
              " 1,\n",
              " 1,\n",
              " 0,\n",
              " 0,\n",
              " 0,\n",
              " 0,\n",
              " 1,\n",
              " 0,\n",
              " 0,\n",
              " 1,\n",
              " 0,\n",
              " 0,\n",
              " 1,\n",
              " 0,\n",
              " 1,\n",
              " 1,\n",
              " 1,\n",
              " 0,\n",
              " 0,\n",
              " 1,\n",
              " 0,\n",
              " 1,\n",
              " 1,\n",
              " 0,\n",
              " 0,\n",
              " 1,\n",
              " 0,\n",
              " 0,\n",
              " 1,\n",
              " 1,\n",
              " 0,\n",
              " 1,\n",
              " 0,\n",
              " 1,\n",
              " 0,\n",
              " 0,\n",
              " 1,\n",
              " 0]"
            ]
          },
          "metadata": {
            "tags": []
          },
          "execution_count": 67
        }
      ]
    },
    {
      "cell_type": "code",
      "metadata": {
        "id": "NnUhgrz1UCV9"
      },
      "source": [
        "test_img_lst = predict_list(test_img)"
      ],
      "execution_count": null,
      "outputs": []
    },
    {
      "cell_type": "code",
      "metadata": {
        "id": "8vILJ6OYRDwW",
        "colab": {
          "base_uri": "https://localhost:8080/"
        },
        "outputId": "37a05164-4cde-45de-970b-82d83804c8cf"
      },
      "source": [
        "test_img_lable"
      ],
      "execution_count": null,
      "outputs": [
        {
          "output_type": "execute_result",
          "data": {
            "text/plain": [
              "array([0, 1, 1, 1, 0, 1, 0, 1, 1, 1, 0, 0, 1, 0, 0, 1, 0, 0, 0, 0, 0, 0,\n",
              "       0, 0, 0, 1, 1, 0, 1, 1, 0, 1, 0, 0, 1, 0, 1, 0, 1, 0, 0, 0, 1, 0,\n",
              "       0, 1, 1, 1, 0, 1, 0, 1, 1, 0, 0, 0, 1, 1, 0, 1, 0, 1, 0, 1, 0, 1,\n",
              "       1, 1, 1, 1, 1, 1, 0, 1, 1, 0, 0, 1, 1, 1, 1, 0, 1, 0, 0, 0, 0, 0,\n",
              "       0, 1, 0, 0, 0, 0, 0, 1, 0, 1, 0, 0, 1, 0, 0, 0, 1, 1, 0, 1, 1, 0,\n",
              "       0, 0, 1, 0, 1, 1, 0, 0, 1, 1, 1, 0, 0, 0, 1, 1, 0, 1, 1, 1, 1, 1,\n",
              "       1, 0, 1, 0, 1, 0, 1, 0, 1, 1, 1, 0, 0, 0, 0, 1, 0, 0, 0, 0, 0, 1,\n",
              "       1, 1, 0, 1, 0, 0, 1, 0, 1, 1, 0, 0, 0, 0, 0, 1, 1, 0, 0, 0, 0, 1,\n",
              "       1, 1, 1, 0, 1, 0, 1, 0, 1, 0, 1, 0, 0, 1, 1, 0, 1, 1, 0, 0, 0, 0,\n",
              "       1, 1, 1, 0, 1, 0, 1, 1, 0, 0, 1, 1, 1, 0, 0, 1, 0, 1, 0, 1, 1, 0,\n",
              "       0, 0, 0, 0, 0, 0, 0, 1, 0, 0, 1, 1, 0, 1, 0, 0, 1, 0, 1, 1, 0, 1,\n",
              "       1, 0, 0, 0, 0, 1, 0, 0, 1, 1, 0, 1, 0, 0, 1, 0, 1, 0, 0, 1, 0, 0,\n",
              "       0, 0, 0, 1, 0, 1, 1, 0, 1, 1, 1, 1, 1, 0, 0, 1, 1, 1, 1, 1, 1, 0,\n",
              "       0, 0, 0, 1, 0, 0, 0, 0, 0, 1, 1, 0, 0, 1, 1, 0, 0, 1, 0, 1, 0, 1,\n",
              "       0, 1, 1, 1, 0, 0, 1, 0, 0, 1, 1, 1, 1, 0, 0, 0, 0, 1, 0, 0, 1, 1,\n",
              "       1, 0, 0, 0, 0, 1, 1, 1, 1, 1, 0, 0, 1, 1, 1, 1, 1, 1, 0, 0, 0, 0,\n",
              "       0, 1, 0, 1, 1, 1, 0, 0, 0, 1, 1, 1, 1, 0, 0, 1, 0, 1, 0, 0, 0, 0,\n",
              "       1, 0, 0, 1, 0, 0, 0, 1, 1, 1, 1, 1, 0, 1, 1, 0, 0, 0, 0, 1, 0, 0,\n",
              "       1, 1, 0, 0, 1, 0, 1, 1, 1, 1, 0, 1, 1, 1, 0, 1, 0, 1, 0, 0, 1, 1,\n",
              "       1, 0, 1, 0, 0, 0, 0, 0, 1, 0, 0, 0, 0, 0, 1, 1, 0, 0, 0, 1, 0, 1,\n",
              "       1, 0, 1, 0, 1, 1, 1, 0, 0, 1, 0, 1, 0, 1, 0, 0, 1, 1, 0, 0, 0, 1,\n",
              "       0, 0, 1, 1, 1, 1, 1, 1, 1, 1, 1, 1, 0, 1, 0, 0, 0, 0, 0, 1, 0, 1,\n",
              "       1, 1, 1, 1, 1, 1, 0, 1, 1, 0, 0, 0, 1, 0, 0, 1, 0, 0, 0, 1, 0, 1,\n",
              "       0, 0, 0, 1, 1, 0, 1, 0, 1, 1, 0, 1, 1, 0, 1, 1, 0, 0, 0, 0, 1, 1,\n",
              "       1, 0, 0, 1, 0, 0, 1, 1, 1, 1, 1, 0, 0, 0, 0, 1, 1, 0, 0, 1, 1, 1,\n",
              "       0, 0, 1, 0, 1, 1, 0, 1, 1, 1, 1, 1, 1, 1, 1, 0, 0, 1, 1, 1, 1, 0,\n",
              "       1, 1, 1, 1, 0, 1, 1, 0, 1, 0, 1, 1, 0, 1, 0, 1, 0, 0, 1, 0, 0, 1,\n",
              "       0, 1, 0, 1, 0, 0, 0, 0, 1, 1, 1, 1, 1, 1, 1, 1, 1, 1, 1, 1, 0, 1,\n",
              "       1, 1, 0, 0, 0, 1, 0, 0, 0, 0, 0, 1, 1, 1, 0, 0, 1, 1, 1, 0, 1, 1,\n",
              "       0, 0, 0, 1, 0, 1, 1, 0, 0, 0, 1, 1, 1, 1, 1, 0, 0, 1, 0, 1, 0, 0,\n",
              "       0, 1, 1, 1, 0, 0, 1, 0, 0, 1, 0, 1, 0, 1, 0, 0, 0, 1, 1, 0, 1, 1,\n",
              "       0, 1, 0, 1, 1, 0, 1, 0, 1, 1, 1, 1, 0, 0, 1, 1, 1, 1, 0, 0, 0, 0,\n",
              "       1, 1, 0, 0, 0, 1, 0, 1, 1, 0, 1, 1, 1, 1, 1, 0, 0, 0, 1, 0, 1, 1,\n",
              "       0, 1, 1, 0, 0, 1, 0, 1, 0, 0, 0, 0, 1, 0, 0, 0, 1, 0, 1, 1, 1, 1,\n",
              "       0, 1, 0, 0, 0, 1, 0, 0, 1, 1, 0, 0, 1, 0, 0, 0, 0, 0, 0, 1, 1, 0,\n",
              "       1, 0, 0, 1, 0, 1, 1, 1, 1, 0, 0, 0, 1, 1, 0, 0, 1, 0, 1, 0, 1, 1,\n",
              "       1, 1, 1, 0, 0, 0, 0])"
            ]
          },
          "metadata": {
            "tags": []
          },
          "execution_count": 50
        }
      ]
    },
    {
      "cell_type": "code",
      "metadata": {
        "colab": {
          "base_uri": "https://localhost:8080/"
        },
        "id": "424OcDIl2cDL",
        "outputId": "b51f9933-1d46-40b8-b6a9-ee103e2131d1"
      },
      "source": [
        "len(test_img_lable)"
      ],
      "execution_count": null,
      "outputs": [
        {
          "output_type": "execute_result",
          "data": {
            "text/plain": [
              "799"
            ]
          },
          "metadata": {
            "tags": []
          },
          "execution_count": 56
        }
      ]
    },
    {
      "cell_type": "code",
      "metadata": {
        "id": "rnHN2ojEutuI",
        "colab": {
          "base_uri": "https://localhost:8080/"
        },
        "outputId": "9b3c8714-19cf-460d-f782-dc41211674bb"
      },
      "source": [
        "aa = 0\n",
        "count = 0\n",
        "for img in test_img_lst:\n",
        "  if test_img_lst[aa] == test_img_lable[aa]:\n",
        "    count+=1\n",
        "  aa+=1\n",
        "print(count)\n",
        "print('acc = ',count/len(test_img_lst))"
      ],
      "execution_count": null,
      "outputs": [
        {
          "output_type": "stream",
          "text": [
            "612\n",
            "acc =  0.7659574468085106\n"
          ],
          "name": "stdout"
        }
      ]
    },
    {
      "cell_type": "markdown",
      "metadata": {
        "id": "WOsxsi7BpsvC"
      },
      "source": [
        "TestTest pushpush abdellah"
      ]
    },
    {
      "cell_type": "markdown",
      "metadata": {
        "id": "xf_7ikIbp-iz"
      },
      "source": [
        ""
      ]
    }
  ]
}